{
  "cells": [
    {
      "cell_type": "markdown",
      "metadata": {
        "id": "view-in-github",
        "colab_type": "text"
      },
      "source": [
        "<a href=\"https://colab.research.google.com/github/JZ76/AugustRoboticsLLM/blob/main/demo_colab.ipynb\" target=\"_parent\"><img src=\"https://colab.research.google.com/assets/colab-badge.svg\" alt=\"Open In Colab\"/></a>"
      ]
    },
    {
      "cell_type": "code",
      "source": [],
      "metadata": {
        "id": "shRzfF6Eb55z"
      },
      "id": "shRzfF6Eb55z",
      "execution_count": null,
      "outputs": []
    },
    {
      "metadata": {
        "id": "553f1589982a0993"
      },
      "cell_type": "code",
      "outputs": [],
      "execution_count": null,
      "source": [
        "from transformers import AutoTokenizer, AutoModelForCausalLM, GenerationConfig, BitsAndBytesConfig"
      ],
      "id": "553f1589982a0993"
    },
    {
      "metadata": {
        "id": "initial_id"
      },
      "cell_type": "code",
      "outputs": [],
      "execution_count": null,
      "source": [
        "model_dir = \"ARLLM_4bit/\"\n",
        "tokenizer_path = \"Meta-Llama-3-8B-Instruct/\"\n",
        "tokenizer = AutoTokenizer.from_pretrained(tokenizer_path, trust_remote_code=True, add_bos_token=False)\n",
        "tokenizer.padding_side = \"right\"\n",
        "# tokenizer.pad_token = tokenizer.eos_token\n",
        "model = AutoModelForCausalLM.from_pretrained(model_dir, device_map=\"mps\")\n",
        "model.resize_token_embeddings(len(tokenizer))"
      ],
      "id": "initial_id"
    },
    {
      "metadata": {
        "ExecuteTime": {
          "end_time": "2024-08-10T16:01:38.411289Z",
          "start_time": "2024-08-10T16:01:37.866985Z"
        },
        "id": "5a51d0ffa09e6111",
        "outputId": "90bb5e9f-cbd2-4520-d558-7961d27e2a01"
      },
      "cell_type": "code",
      "source": [
        "chat_turns = [\n",
        "    {\n",
        "        \"role\": \"system\",\n",
        "        \"content\": \"Your role is an on-site robotics operation engineer who gives technical and practical advice to client who use Lionel robot to draw lines on the ground.\\n\"\n",
        "                   \"You belong to August Robotics Ltd. Please do not answer any question not relate to our business, you can simply refuse it by saying no.\\n\"\n",
        "                   \"Let's think through this carefully, step by step.\\n\"\n",
        "    },\n",
        "\n",
        "]\n",
        "format_user_input = {\n",
        "        \"role\": \"user\", \"content\": \"\"\n",
        "}\n",
        "format_assistant_output = {\n",
        "    \"role\": \"assistant\", \"content\": \"\"\n",
        "}\n",
        "\n",
        "generation_config = GenerationConfig.from_pretrained(model_dir)\n",
        "generation_config.max_new_tokens = 150\n",
        "generation_config.repetition_penalty = 1.1\n",
        "generation_config.temperature = 0.2\n",
        "generation_config.top_p = 0.2\n",
        "generation_config.top_k = 20\n",
        "\n",
        "while True:\n",
        "    user_input = input(\"Message ARLLM: \")\n",
        "    format_user_input[\"content\"] = str(user_input)\n",
        "    chat_turns.append(format_user_input)\n",
        "    model_inputs = tokenizer(tokenizer.apply_chat_template(chat_turns, tokenize=False), return_tensors=\"pt\").to(\"mps\")\n",
        "    if len(model_inputs[\"input_ids\"][0]) >= 1024:\n",
        "        print(\"Reached maximum number of tokens, please start a new conversation.\")\n",
        "        break\n",
        "    output = model.generate(**model_inputs, generation_config=generation_config)\n",
        "    format_output = tokenizer.decode(output[0][len(model_inputs[\"input_ids\"][0])+2:], skip_special_tokens=True).strip()\n",
        "    format_assistant_output[\"content\"] = str(format_output)\n",
        "    chat_turns.append(format_assistant_output)\n",
        "    print(format_output)"
      ],
      "id": "5a51d0ffa09e6111",
      "outputs": [
        {
          "ename": "NameError",
          "evalue": "name 'GenerationConfig' is not defined",
          "output_type": "error",
          "traceback": [
            "\u001b[1;31m---------------------------------------------------------------------------\u001b[0m",
            "\u001b[1;31mNameError\u001b[0m                                 Traceback (most recent call last)",
            "Cell \u001b[1;32mIn[1], line 17\u001b[0m\n\u001b[0;32m     10\u001b[0m format_user_input \u001b[38;5;241m=\u001b[39m {\n\u001b[0;32m     11\u001b[0m         \u001b[38;5;124m\"\u001b[39m\u001b[38;5;124mrole\u001b[39m\u001b[38;5;124m\"\u001b[39m: \u001b[38;5;124m\"\u001b[39m\u001b[38;5;124muser\u001b[39m\u001b[38;5;124m\"\u001b[39m, \u001b[38;5;124m\"\u001b[39m\u001b[38;5;124mcontent\u001b[39m\u001b[38;5;124m\"\u001b[39m: \u001b[38;5;124m\"\u001b[39m\u001b[38;5;124m\"\u001b[39m\n\u001b[0;32m     12\u001b[0m }\n\u001b[0;32m     13\u001b[0m format_assistant_output \u001b[38;5;241m=\u001b[39m {\n\u001b[0;32m     14\u001b[0m     \u001b[38;5;124m\"\u001b[39m\u001b[38;5;124mrole\u001b[39m\u001b[38;5;124m\"\u001b[39m: \u001b[38;5;124m\"\u001b[39m\u001b[38;5;124massistant\u001b[39m\u001b[38;5;124m\"\u001b[39m, \u001b[38;5;124m\"\u001b[39m\u001b[38;5;124mcontent\u001b[39m\u001b[38;5;124m\"\u001b[39m: \u001b[38;5;124m\"\u001b[39m\u001b[38;5;124m\"\u001b[39m\n\u001b[0;32m     15\u001b[0m }\n\u001b[1;32m---> 17\u001b[0m generation_config \u001b[38;5;241m=\u001b[39m \u001b[43mGenerationConfig\u001b[49m\u001b[38;5;241m.\u001b[39mfrom_pretrained(model_dir)\n\u001b[0;32m     18\u001b[0m generation_config\u001b[38;5;241m.\u001b[39mmax_new_tokens \u001b[38;5;241m=\u001b[39m \u001b[38;5;241m150\u001b[39m\n\u001b[0;32m     19\u001b[0m generation_config\u001b[38;5;241m.\u001b[39mrepetition_penalty \u001b[38;5;241m=\u001b[39m \u001b[38;5;241m1.1\u001b[39m\n",
            "\u001b[1;31mNameError\u001b[0m: name 'GenerationConfig' is not defined"
          ]
        }
      ],
      "execution_count": null
    }
  ],
  "metadata": {
    "kernelspec": {
      "display_name": "Python 3",
      "language": "python",
      "name": "python3"
    },
    "language_info": {
      "codemirror_mode": {
        "name": "ipython",
        "version": 2
      },
      "file_extension": ".py",
      "mimetype": "text/x-python",
      "name": "python",
      "nbconvert_exporter": "python",
      "pygments_lexer": "ipython2",
      "version": "2.7.6"
    },
    "colab": {
      "provenance": [],
      "include_colab_link": true
    }
  },
  "nbformat": 4,
  "nbformat_minor": 5
}