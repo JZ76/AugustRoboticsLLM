{
 "cells": [
  {
   "cell_type": "code",
   "execution_count": 1,
   "id": "87d5286ddccf165",
   "metadata": {
    "ExecuteTime": {
     "end_time": "2024-08-08T15:57:33.506180Z",
     "start_time": "2024-08-08T15:57:21.476504Z"
    }
   },
   "outputs": [],
   "source": [
    "from llama3 import Llama\n",
    "import torch\n",
    "from pathlib import Path\n",
    "import json\n",
    "from llama3.model import ModelArgs, Transformer\n",
    "from llama3.tokenizer import ChatFormat, Dialog, Message, Tokenizer\n",
    "from transformers import AutoTokenizer, AutoModelForCausalLM, BitsAndBytesConfig, GenerationConfig, TrainingArguments\n",
    "from peft import LoraConfig, prepare_model_for_kbit_training, PeftModel, PeftConfig\n",
    "from trl import SFTTrainer\n",
    "from datasets import load_dataset, Dataset, Features, ClassLabel, Value"
   ]
  },
  {
   "cell_type": "code",
   "execution_count": 2,
   "id": "475f1a30ad5e6edc",
   "metadata": {
    "ExecuteTime": {
     "end_time": "2024-08-08T15:50:23.717845Z",
     "start_time": "2024-08-08T15:50:23.704842Z"
    }
   },
   "outputs": [],
   "source": [
    "ckpt_dir = \"F:\\AugustRoboticsLLM\\Meta-Llama-3-8B-Instruct\"\n",
    "tokenizer_path = \"F:\\AugustRoboticsLLM\\Meta-Llama-3-8B-Instruct\"\n",
    "output_dir = \"F:\\AugustRoboticsLLM\\LoRAAdapter\"\n",
    "bnb_config = BitsAndBytesConfig(\n",
    "    load_in_4bit=True,\n",
    "    bnb_4bit_use_double_quant=True,\n",
    "    bnb_4bit_quant_type=\"nf4\",\n",
    "    bnb_4bit_compute_dtype=torch.bfloat16\n",
    ")\n",
    "peft_config = LoraConfig(\n",
    "    r=32,\n",
    "    lora_alpha=16,\n",
    "    lora_dropout=0.1,\n",
    "    bias=\"none\",\n",
    "    task_type=\"CAUSAL_LM\",\n",
    "    target_modules=[\"q_proj\",\n",
    "    \"up_proj\",\n",
    "    \"o_proj\",\n",
    "    \"k_proj\",\n",
    "    \"down_proj\",\n",
    "    \"gate_proj\",\n",
    "    \"v_proj\"],\n",
    ")"
   ]
  },
  {
   "cell_type": "code",
   "execution_count": 3,
   "id": "29050385135d4d03",
   "metadata": {
    "ExecuteTime": {
     "end_time": "2024-08-08T15:50:24.070388Z",
     "start_time": "2024-08-08T15:50:23.718846Z"
    }
   },
   "outputs": [],
   "source": [
    "tokenizer = AutoTokenizer.from_pretrained(tokenizer_path, trust_remote_code=True, add_bos_token=False)\n",
    "tokenizer.padding_side = \"right\"\n",
    "tokenizer.pad_token = tokenizer.eos_token"
   ]
  },
  {
   "cell_type": "code",
   "execution_count": 1,
   "id": "d962c406b7c6bbd4",
   "metadata": {},
   "outputs": [
    {
     "ename": "NameError",
     "evalue": "name 'Features' is not defined",
     "output_type": "error",
     "traceback": [
      "\u001b[1;31m---------------------------------------------------------------------------\u001b[0m",
      "\u001b[1;31mNameError\u001b[0m                                 Traceback (most recent call last)",
      "Cell \u001b[1;32mIn[1], line 2\u001b[0m\n\u001b[0;32m      1\u001b[0m class_names \u001b[38;5;241m=\u001b[39m [\u001b[38;5;124m\"\u001b[39m\u001b[38;5;124mSymptom\u001b[39m\u001b[38;5;124m\"\u001b[39m, \u001b[38;5;124m\"\u001b[39m\u001b[38;5;124mSolution1\u001b[39m\u001b[38;5;124m\"\u001b[39m, \u001b[38;5;124m\"\u001b[39m\u001b[38;5;124mSolution2\u001b[39m\u001b[38;5;124m\"\u001b[39m, \u001b[38;5;124m\"\u001b[39m\u001b[38;5;124mSolution3\u001b[39m\u001b[38;5;124m\"\u001b[39m, \u001b[38;5;124m\"\u001b[39m\u001b[38;5;124mSolution4\u001b[39m\u001b[38;5;124m\"\u001b[39m, \u001b[38;5;124m\"\u001b[39m\u001b[38;5;124mSolution5\u001b[39m\u001b[38;5;124m\"\u001b[39m, \u001b[38;5;124m\"\u001b[39m\u001b[38;5;124mSolution6\u001b[39m\u001b[38;5;124m\"\u001b[39m, \u001b[38;5;124m\"\u001b[39m\u001b[38;5;124mSolution7\u001b[39m\u001b[38;5;124m\"\u001b[39m]\n\u001b[1;32m----> 2\u001b[0m features \u001b[38;5;241m=\u001b[39m \u001b[43mFeatures\u001b[49m({name: Value(\u001b[38;5;124m'\u001b[39m\u001b[38;5;124mstring\u001b[39m\u001b[38;5;124m'\u001b[39m) \u001b[38;5;28;01mfor\u001b[39;00m name \u001b[38;5;129;01min\u001b[39;00m class_names})\n\u001b[0;32m      3\u001b[0m QandA_dataset \u001b[38;5;241m=\u001b[39m load_dataset(\u001b[38;5;124m\"\u001b[39m\u001b[38;5;124mcsv\u001b[39m\u001b[38;5;124m\"\u001b[39m, data_dir\u001b[38;5;241m=\u001b[39m\u001b[38;5;124m\"\u001b[39m\u001b[38;5;124mF:\u001b[39m\u001b[38;5;124m\\\u001b[39m\u001b[38;5;124mAugustRoboticsLLM\u001b[39m\u001b[38;5;124m\\\u001b[39m\u001b[38;5;124mdataset\u001b[39m\u001b[38;5;124m\"\u001b[39m, sep\u001b[38;5;241m=\u001b[39m\u001b[38;5;124m'\u001b[39m\u001b[38;5;124m,\u001b[39m\u001b[38;5;124m'\u001b[39m, quoting\u001b[38;5;241m=\u001b[39m\u001b[38;5;241m1\u001b[39m, quotechar\u001b[38;5;241m=\u001b[39m\u001b[38;5;124mr\u001b[39m\u001b[38;5;124m'\u001b[39m\u001b[38;5;124m\"\u001b[39m\u001b[38;5;124m'\u001b[39m, doublequote\u001b[38;5;241m=\u001b[39m\u001b[38;5;28;01mTrue\u001b[39;00m, features\u001b[38;5;241m=\u001b[39mfeatures)\n",
      "\u001b[1;31mNameError\u001b[0m: name 'Features' is not defined"
     ]
    }
   ],
   "source": [
    "class_names = [\"Symptom\", \"Solution1\", \"Solution2\", \"Solution3\", \"Solution4\", \"Solution5\", \"Solution6\", \"Solution7\"]\n",
    "features = Features({name: Value('string') for name in class_names})\n",
    "QandA_dataset = load_dataset(\"csv\", data_dir=\"F:\\AugustRoboticsLLM\\dataset\", sep=',', quoting=1, quotechar=r'\"', doublequote=True, features=features)"
   ]
  },
  {
   "cell_type": "code",
   "execution_count": 12,
   "id": "366cf3931a952e28",
   "metadata": {
    "ExecuteTime": {
     "end_time": "2024-08-06T14:10:42.557437Z",
     "start_time": "2024-08-06T14:10:42.321793Z"
    }
   },
   "outputs": [
    {
     "data": {
      "application/vnd.jupyter.widget-view+json": {
       "model_id": "8d78c930741d490187fe24554c17398a",
       "version_major": 2,
       "version_minor": 0
      },
      "text/plain": [
       "Map:   0%|          | 0/44 [00:00<?, ? examples/s]"
      ]
     },
     "metadata": {},
     "output_type": "display_data"
    },
    {
     "name": "stdout",
     "output_type": "stream",
     "text": [
      "{'Symptom': 'Nothing is displayed when a map is viewed', 'Solution1': 'Refresh the webpage on the tablet, and navigate to the homepage (192.168.59.99)', 'Solution2': 'Ensure that the map has not been archived', 'Solution3': 'If possible, hide the information layer using the show/hide tool', 'Solution4': 'On the client portal (https://portal.augustrobotics.com/) ensure that the correct units were chosen when uploading the map (m / mm / inch)', 'Solution5': None, 'Solution6': None, 'Solution7': None}\n",
      "<class 'str'>\n",
      "{'Symptom': 'An error appears about unreachable marks', 'Solution1': 'Check for marks outside the marking area - it is possible that there are booths \"outside\" the hall', 'Solution2': 'Check if there are any marks surrounded by an obstacle', 'Solution3': 'Wait until the job is complete, are there still marks counted as unpainted?', 'Solution4': 'Stop the job and re-start it. Does the MSP continue to display the message?', 'Solution5': 'Contact an AR representative', 'Solution6': None, 'Solution7': None}\n",
      "<class 'str'>\n",
      "{'Symptom': 'The webpage is getting stuck during the \"start job\" process', 'Solution1': 'Refresh the webpage on the tablet, and navigate to the homepage (192.168.59.99)', 'Solution2': 'Reboot the MSP, repeat step 1 and try again', 'Solution3': 'Use a different device, such as a laptop to access the GUI', 'Solution4': 'Pull the map from the client portal again', 'Solution5': 'Contact an AR representative', 'Solution6': None, 'Solution7': None}\n",
      "<class 'str'>\n",
      "{'Symptom': \"The reference beacon locations aren't showing during calibration\", 'Solution1': 'Refresh the webpage on the tablet, and navigate to the homepage (192.168.59.99)', 'Solution2': 'Check that the webpage is in \"RB\" mode at the bottom.', 'Solution3': 'Check that the map was processed using the correct RB layer on the client portal', 'Solution4': 'Reprocess and pull the map to the MSP', 'Solution5': None, 'Solution6': None, 'Solution7': None}\n",
      "<class 'str'>\n",
      "{'Symptom': \"The Lionel / GS home-bases aren't showing during calibration\", 'Solution1': 'Refresh the webpage on the tablet, and navigate to the homepage (192.168.59.99)', 'Solution2': 'Check that the webpage is in \"GS / Lionel\" mode at the bottom', 'Solution3': 'Check that the map was processed using the GS/Lionel layers on client portal', 'Solution4': 'Reprocess and pull the map to the MSP', 'Solution5': None, 'Solution6': None, 'Solution7': None}\n",
      "<class 'str'>\n",
      "{'Symptom': \"The MSP can't pull maps from Portal (AR)\", 'Solution1': ' Check that the MSP is connected to the remote access portal', 'Solution2': ' Check that you can ssh into the MSP (using remote access)', 'Solution3': ' Check that the MSP token is enabled on the Client Portal', 'Solution4': ' Reboot the MSP', 'Solution5': ' Check the token in the cloud_settings of the MSP', 'Solution6': None, 'Solution7': None}\n",
      "<class 'str'>\n",
      "{'Symptom': \"The MSP can't pull maps from Portal (Client)\", 'Solution1': 'Check that the tablet is connected to the MSP Wi-Fi', 'Solution2': 'Check that the MSP is connected to your company Wi-Fi', 'Solution3': 'Reboot the MSP', 'Solution4': 'Try and pull the map from the client portal again', 'Solution5': 'If possible, plug an ethernet cable into the MSP', 'Solution6': 'Contact an AR representative', 'Solution7': None}\n",
      "<class 'str'>\n",
      "{'Symptom': 'MSP has no internet access', 'Solution1': ' Check that the MSP is connected to the remote access portal', 'Solution2': 'Check that the Wifi is on and connected', 'Solution3': 'Check that you can ssh into the MSP', 'Solution4': ' Reboot the MSP', 'Solution5': ' Plug an ethernet cable into the MSP', 'Solution6': None, 'Solution7': None}\n",
      "<class 'str'>\n",
      "{'Symptom': \"Equipment doesn't show in job / doesn't connect to MSP\", 'Solution1': 'Check that the router is installed and powered on for each piece of equipment (Lionel, GS etc)', 'Solution2': 'Check that the device is powered on', 'Solution3': 'If you have multiple MSP, check that the router is correct', 'Solution4': 'Restart the device', 'Solution5': 'Contact an AR representative', 'Solution6': None, 'Solution7': None}\n",
      "<class 'str'>\n",
      "{'Symptom': \"Remote access isn't working\", 'Solution1': 'Test v2ray (R MSPx 000x)', 'Solution2': 'Test Tailscale (ssh augbooth@mspx-000x.ts.augustrobotics.com)', 'Solution3': 'Test Wireguard (W MSPx 000x)', 'Solution4': None, 'Solution5': None, 'Solution6': None, 'Solution7': None}\n",
      "<class 'str'>\n",
      "{'Symptom': \"The MSP webpage won't show up (192.168.59.99)\", 'Solution1': 'Check that the tablet is connected to the MSP Wi-Fi', 'Solution2': 'Attempt to navigate to 192.168.59.99', 'Solution3': 'Reboot the MSP and Tablet, and try access the webpage again', 'Solution4': 'Try accessing the MSP GUI remotely', 'Solution5': 'Escalate the problem - may need a re-install of the software', 'Solution6': None, 'Solution7': None}\n",
      "<class 'str'>\n",
      "{'Symptom': \"The tablet won't connect to Map Server Wifi\", 'Solution1': ' Ensure the Tablet wifi is currently \"On\"', 'Solution2': 'Ensure that the tablet isn\\'t connected to a different network, if it is, please \"forget\" the network', 'Solution3': ' Reboot the MSP and the Tablet', 'Solution4': ' \"Forget\" the MSP Wi-Fi on the tablet, and re-add it with the password: \"augustbase\"', 'Solution5': 'Contact an AR representative', 'Solution6': None, 'Solution7': None}\n",
      "<class 'str'>\n",
      "{'Symptom': \"Tablet doesn't power on or doesn't work at all\", 'Solution1': 'Check that the tablet is charged', 'Solution2': 'A laptop can be used as a temporary replacement. Please connect to the MSP Wi-Fi using the password: \"augustbase\"', 'Solution3': 'Contact an AR representative', 'Solution4': None, 'Solution5': None, 'Solution6': None, 'Solution7': None}\n",
      "<class 'str'>\n",
      "{'Symptom': 'There are breaks in the marks / air in the pipe / poor mark quality overall', 'Solution1': 'Check the pipe from the bottle to the robot - is it pinched', 'Solution2': 'Check the pipe from the bottle to the robot - is it correctly connected (an audible click should be heard when connecting the bottle)', 'Solution3': ' Inspect the rest of the paint pipes for pinches, bends or leaks', 'Solution4': 'Inspect the lid of the bottle, the small air hole should not be blocked', 'Solution5': 'Clean or replace the nozzle, it may be partially blocked. Check the O-Ring at the bottle connection, is it damaged.', 'Solution6': 'Contact an AR representative', 'Solution7': 'Change the pump head'}\n",
      "<class 'str'>\n",
      "{'Symptom': \"Robot won't mark a section of the Map (Usually far East / North)\", 'Solution1': ' Check that the marks are not \"\"Disabled\"\"', 'Solution2': ' Check the dimensions of the hall on the portal vs the CAD, are the portal dimensions correct', 'Solution3': ' If #2, reprocess the map with correct dimensions\"', 'Solution4': None, 'Solution5': None, 'Solution6': None, 'Solution7': None}\n",
      "<class 'str'>\n",
      "{'Symptom': \"The robots won't mark a certain section of a job map\", 'Solution1': 'Ensure that none of the marks in that zone are \"disabled\"', 'Solution2': \"Refresh the webpage and confirm that these marks haven't already been painted\", 'Solution3': 'Ensure that a \"temporary obstacle\" wasn\\'t created around these marks', 'Solution4': 'Contact an AR representative', 'Solution5': None, 'Solution6': None, 'Solution7': None}\n",
      "<class 'str'>\n",
      "{'Symptom': 'The robot is in a constant error / initialization state', 'Solution1': \"Ensure that the emergency stop buttons aren't pushed\", 'Solution2': 'Check the notification bell on the GUI - are there any errors being reported?', 'Solution3': 'Reboot the robot, if the problem persists contact an AR representative', 'Solution4': ' SSH into device and check \"docker logs -f bringup_hardware\"', 'Solution5': None, 'Solution6': None, 'Solution7': None}\n",
      "<class 'str'>\n",
      "{'Symptom': 'The robots nozzle is blocked / the nozzle is blocking frequently / the nozzle is dripping paint', 'Solution1': 'Perform a short preload using the button to determine if the nozzle is partially or fully blocked', 'Solution2': 'Dredge the nozzle with the provided cleaning needles', 'Solution3': 'Replace the nozzle with a new, clean nozzle', 'Solution4': 'Ensure there is enough water in the foam cup, or replace the foam', 'Solution5': 'Contact an AR representative', 'Solution6': None, 'Solution7': None}\n",
      "<class 'str'>\n",
      "{'Symptom': 'The marks are inaccurate relative to their intended position in the venue', 'Solution1': 'Ensure that the reference beacons have been placed in the correct locations', 'Solution2': 'Ensure that all 4 guiding station feet are level, if not - reboot and recalibrate the GS', 'Solution3': 'Check that the booths were copied into the correct location in the processed CAD file', 'Solution4': 'Contact an AR representative', 'Solution5': 'Check GS bolts are tight', 'Solution6': None, 'Solution7': None}\n",
      "<class 'str'>\n",
      "{'Symptom': 'The marks are inaccurate relative to one-another', 'Solution1': 'Ensure that all 4 guiding station feet are level, if not - reboot and recalibrate the GS', 'Solution2': 'Escalate', 'Solution3': None, 'Solution4': None, 'Solution5': None, 'Solution6': None, 'Solution7': None}\n",
      "<class 'str'>\n",
      "{'Symptom': \"Lionel doesn't respond during the calibration step\", 'Solution1': 'Ensure that a homebase has been selected to calibrate Lionel', 'Solution2': 'Ensure that the selected homebase has line of sight to the guiding stations, otherwise, add a new one', 'Solution3': 'Check for any errors by using the notification icon, and ensure the emergency stop is not pressed', 'Solution4': 'Reboot the Lionel robot', 'Solution5': 'Contact an AR representative', 'Solution6': None, 'Solution7': None}\n",
      "<class 'str'>\n",
      "{'Symptom': 'Lionels marks are slightly skew', 'Solution1': 'Escalate - likely to be the Yaw Settings', 'Solution2': None, 'Solution3': None, 'Solution4': None, 'Solution5': None, 'Solution6': None, 'Solution7': None}\n",
      "<class 'str'>\n",
      "{'Symptom': 'Mark is incorrect width', 'Solution1': 'Adjust the \"default_corner_width\" parameter in device settings', 'Solution2': None, 'Solution3': None, 'Solution4': None, 'Solution5': None, 'Solution6': None, 'Solution7': None}\n",
      "<class 'str'>\n",
      "{'Symptom': 'Mark is incorrect length', 'Solution1': 'Adjust the \"default_corner_length\" parameter in device settings', 'Solution2': None, 'Solution3': None, 'Solution4': None, 'Solution5': None, 'Solution6': None, 'Solution7': None}\n",
      "<class 'str'>\n",
      "{'Symptom': 'Robot movement is stuck between marks', 'Solution1': 'Check for physical obstruction on the sonar, depth camera', 'Solution2': 'Check depth camera height settings in the env.bash file, the default should be 0.15m', 'Solution3': 'Disable or unplug the sonars and check for improvement', 'Solution4': 'Escalate', 'Solution5': None, 'Solution6': None, 'Solution7': None}\n",
      "<class 'str'>\n",
      "{'Symptom': 'Lionel is not moving in a straight line / Wheel is dragging', 'Solution1': 'Perform a visual inspection for wheel obstruction / debris caught in the wheels', 'Solution2': 'Power cycle the robot', 'Solution3': 'Check for any errors on the GUI', 'Solution4': 'ssh into the robot, check \"docker logs -f bringup_hardware\" for motor connections', 'Solution5': 'Escalate', 'Solution6': None, 'Solution7': None}\n",
      "<class 'str'>\n",
      "{'Symptom': 'Lionel is flagging many marks as \"bad marks\"', 'Solution1': 'Double check the quality of the marks - is the nozzle blocked', 'Solution2': 'Give the marking camera lens a light wipe to clean the lens', 'Solution3': 'Escalate', 'Solution4': None, 'Solution5': None, 'Solution6': None, 'Solution7': None}\n",
      "<class 'str'>\n",
      "{'Symptom': \"Lionels camera beacon can't rotate to its desired location\", 'Solution1': 'Press the emergency stop button', 'Solution2': 'Rotate the camera beacon to face the back of Lionel', 'Solution3': 'Release the emergency stop button', 'Solution4': 'Press the \"Reset\" button on the GUI if the device is in an error state', 'Solution5': 'Recalibrate Lionel and start running the job again', 'Solution6': None, 'Solution7': None}\n",
      "<class 'str'>\n",
      "{'Symptom': 'Lionel does not power on after toggling the switch', 'Solution1': 'Ensure that the battery is installed correctly, charged and connected to the robot', 'Solution2': 'Set the switch to the \"off\" state for 10 seconds, and attempt to power on again', 'Solution3': 'Check for any LEDs', 'Solution4': 'Consider replacing the fuse, which is located next to the power switch. Spare fuses should be in the MSP box', 'Solution5': None, 'Solution6': None, 'Solution7': None}\n",
      "<class 'str'>\n",
      "{'Symptom': 'Lionel does not stop marking when the nozzle is blocked / mark quality is bad', 'Solution1': 'Stop the Lionel by pushing the \"Pause\" button', 'Solution2': 'Perform the steps to clear the paint flow', 'Solution3': 'Before starting Lionel again, ensure that \"Stop After 5 Bad Marks\" is enabled before starting the robot again', 'Solution4': None, 'Solution5': None, 'Solution6': None, 'Solution7': None}\n",
      "<class 'str'>\n",
      "{'Symptom': 'Lionel does not have line of sight to a Guiding Station', 'Solution1': 'Ask the client to check if Lionel has line of sight to the Guiding Station', 'Solution2': 'If the Lionel does not have line of sight, is this because of a temporary obstacle or permanent?', 'Solution3': 'If its a permanent obstacle, ask someone to add this obstacle into the CAD file for the hall', 'Solution4': None, 'Solution5': None, 'Solution6': None, 'Solution7': None}\n",
      "<class 'str'>\n",
      "{'Symptom': 'The robot is in a constant error / initialization state', 'Solution1': \"Ensure that the emergency stop buttons aren't pushed\", 'Solution2': 'Check the notification bell on the GUI - are there any errors being reported?', 'Solution3': 'Reboot the Guiding Station, if the problem persists contact an AR representative', 'Solution4': ' SSH into device and check \"docker logs -f boothbot_main\"', 'Solution5': None, 'Solution6': None, 'Solution7': None}\n",
      "<class 'str'>\n",
      "{'Symptom': \"The Guiding Station can't find the Reference Beacons\", 'Solution1': 'Check that selected homebase is correct and is accurate relative to the real position of the Guiding Station', 'Solution2': 'Check that the GS orientation is correct according to the X,Y axis of the hall plan', 'Solution3': 'Check that RBs are in the correct positions according to the map', 'Solution4': 'Rotate the reference beacon head to the best side if there are internal cables obstructing the light', 'Solution5': 'Check no reflection from RB to pillar', 'Solution6': 'Escalate', 'Solution7': None}\n",
      "<class 'str'>\n",
      "{'Symptom': 'Device stays in error state after EStop Released', 'Solution1': 'Press \"Reset\" Button', 'Solution2': 'Do a hardware reset', 'Solution3': 'Check logs through SSH (Boothbot_main)', 'Solution4': None, 'Solution5': None, 'Solution6': None, 'Solution7': None}\n",
      "<class 'str'>\n",
      "{'Symptom': 'The Guiding Station pose stays \"Unlocated\" after finding both reference beacons', 'Solution1': 'Ensure the RBs are placed at the correct positions', 'Solution2': 'Escalate', 'Solution3': 'SSH into the device and check \"roslog cali\"', 'Solution4': 'Check the RB co-ordinates on the processed map vs the CAD', 'Solution5': None, 'Solution6': None, 'Solution7': None}\n",
      "<class 'str'>\n",
      "{'Symptom': \"The Guiding Station camera beacon can't rotate to its desired location\", 'Solution1': 'Press the emergency stop button', 'Solution2': 'Rotate the camera beacon to ensure the cable is not tangled', 'Solution3': 'Release the emergency stop button', 'Solution4': 'Press the \"Reset\" button on the GUI if the device is in an error state', 'Solution5': None, 'Solution6': None, 'Solution7': None}\n",
      "<class 'str'>\n",
      "{'Symptom': \"The Charging Station doesn't power on at all\", 'Solution1': 'Ensure the circuit breaker switch is in the correct position', 'Solution2': 'Check that the power cable is properly connected to the CSP and the wall', 'Solution3': 'Check that the wall-plug is on', 'Solution4': 'Escalate', 'Solution5': None, 'Solution6': None, 'Solution7': None}\n",
      "<class 'str'>\n",
      "{'Symptom': \"One of the Charging Ports doesn't work\", 'Solution1': 'Try another port', 'Solution2': 'Organise a replacement of the CSP, likely needs repair', 'Solution3': None, 'Solution4': None, 'Solution5': None, 'Solution6': None, 'Solution7': None}\n",
      "<class 'str'>\n",
      "{'Symptom': 'Fan is making a noise', 'Solution1': 'Continue to monitor', 'Solution2': 'Organise a replacement of the CSP, likely needs repair', 'Solution3': None, 'Solution4': None, 'Solution5': None, 'Solution6': None, 'Solution7': None}\n",
      "<class 'str'>\n",
      "{'Symptom': 'Charging station power is tripping ', 'Solution1': 'Check the breaker buttons on the CSP', 'Solution2': 'Unplug all batteries', 'Solution3': 'Plug in a single battery', 'Solution4': 'Escalate', 'Solution5': None, 'Solution6': None, 'Solution7': None}\n",
      "<class 'str'>\n",
      "{'Symptom': \"The locating laser won't power on\", 'Solution1': 'Check that the battery cover is fitted correctly', 'Solution2': 'Replace the AAA battery in the RB', 'Solution3': None, 'Solution4': None, 'Solution5': None, 'Solution6': None, 'Solution7': None}\n",
      "<class 'str'>\n",
      "{'Symptom': 'Feet are loose', 'Solution1': 'Tighten the bolts on the feet, ensuring they are all at a similar height', 'Solution2': None, 'Solution3': None, 'Solution4': None, 'Solution5': None, 'Solution6': None, 'Solution7': None}\n",
      "<class 'str'>\n",
      "{'Symptom': \"LEDs won't power on\", 'Solution1': 'Check that the 12V battery is powered on', 'Solution2': 'Ensure that the 12V battery is charged', 'Solution3': 'Check the wires from the battery to the RB LEDs are not damaged', 'Solution4': 'Try an alternative battery or RB', 'Solution5': None, 'Solution6': None, 'Solution7': None}\n",
      "<class 'str'>\n",
      "{'Symptom': \"One LED doesn't turn on\", 'Solution1': 'Ensure that the wires are not damaged / unplugged', 'Solution2': 'Try an alternative battery or RB', 'Solution3': None, 'Solution4': None, 'Solution5': None, 'Solution6': None, 'Solution7': None}\n",
      "<class 'str'>\n"
     ]
    },
    {
     "data": {
      "text/plain": [
       "Dataset({\n",
       "    features: ['formattedchat'],\n",
       "    num_rows: 44\n",
       "})"
      ]
     },
     "execution_count": 12,
     "metadata": {},
     "output_type": "execute_result"
    }
   ],
   "source": [
    "def prepare_dataset(dataset, tokenizer=tokenizer):\n",
    "    # prompting eng: https://github.com/meta-llama/llama-recipes/blob/main/recipes/quickstart/Prompt_Engineering_with_Llama_3.ipynb\n",
    "    # print(dataset)\n",
    "    solutions = []\n",
    "    for col in ['Solution1', 'Solution2', 'Solution3', 'Solution4', 'Solution5', 'Solution6', 'Solution7']:\n",
    "        if dataset[col] != None:\n",
    "            # print(dataset[col])\n",
    "            solutions.append(dataset[col])\n",
    "    \n",
    "    str_solutions = \"\"\n",
    "    for _idx, solution in enumerate(solutions):\n",
    "        str_solutions += f\"\\t {_idx}: \" + solutions + \"\\n\"\n",
    "    dialogs = [\n",
    "        [{\"role\": \"system\", \"content\": \"Your role is an on-site robotics operation engineer who gives technical and practical advice to client who use Lionel robot to draw lines on the ground.\\n\"\n",
    "                                       \"You belong to August Robotics Ltd. Please do not answer any question not relate to our business, you can simply refuse it by saying no.\\n\"\n",
    "                                       \"Let's think through this carefully, step by step.\\n\"},\n",
    "        {\"role\": \"user\", \"content\": f\"{dataset['Symptom']}\"},\n",
    "    {\"role\": \"assistant\", \"content\": \"Here are the possible solutions provided by me: \\n\"\n",
    "                                          f\"{str_solutions}\"}],\n",
    "    ]\n",
    "    # print(type(tokenizer.apply_chat_template(dialogs, tokenize=False)[0]))\n",
    "    return {\"formattedchat\": tokenizer.apply_chat_template(dialogs, tokenize=False)[0]}\n",
    "\n",
    "QandA_dataset = QandA_dataset.map(prepare_dataset, remove_columns=('Symptom', 'Solution1', 'Solution2', 'Solution3', 'Solution4', 'Solution5', 'Solution6', 'Solution7'))\n",
    "# QandA_dataset = QandA_dataset.train_test_split(test_size=0.1)\n",
    "QandA_dataset"
   ]
  },
  {
   "cell_type": "code",
   "execution_count": 4,
   "id": "ee66f190f1ffd10c",
   "metadata": {
    "ExecuteTime": {
     "end_time": "2024-08-08T15:50:26.203121Z",
     "start_time": "2024-08-08T15:50:24.071390Z"
    }
   },
   "outputs": [],
   "source": [
    "text_dataset = load_dataset(\"text\", data_dir=\"F:\\AugustRoboticsLLM\\/text_dataset\")"
   ]
  },
  {
   "cell_type": "code",
   "execution_count": 5,
   "id": "4d01f585c62fb030",
   "metadata": {
    "ExecuteTime": {
     "end_time": "2024-08-08T15:50:53.417853Z",
     "start_time": "2024-08-08T15:50:26.205120Z"
    }
   },
   "outputs": [
    {
     "data": {
      "application/vnd.jupyter.widget-view+json": {
       "model_id": "72b8e09cdeaa41eca0333f9e1be1af04",
       "version_major": 2,
       "version_minor": 0
      },
      "text/plain": [
       "Loading checkpoint shards:   0%|          | 0/4 [00:00<?, ?it/s]"
      ]
     },
     "metadata": {},
     "output_type": "display_data"
    }
   ],
   "source": [
    "model = AutoModelForCausalLM.from_pretrained(ckpt_dir, quantization_config=bnb_config, device_map=\"auto\")\n",
    "model.resize_token_embeddings(len(tokenizer))\n",
    "model = prepare_model_for_kbit_training(model)"
   ]
  },
  {
   "cell_type": "code",
   "execution_count": 10,
   "id": "24cb006812048a5e",
   "metadata": {
    "ExecuteTime": {
     "end_time": "2024-08-04T07:58:48.584093Z",
     "start_time": "2024-08-04T07:58:26.498481Z"
    }
   },
   "outputs": [
    {
     "data": {
      "application/vnd.jupyter.widget-view+json": {
       "model_id": "3be778417a6140caa6f1706d6c15edcd",
       "version_major": 2,
       "version_minor": 0
      },
      "text/plain": [
       "Loading checkpoint shards:   0%|          | 0/4 [00:00<?, ?it/s]"
      ]
     },
     "metadata": {},
     "output_type": "display_data"
    },
    {
     "name": "stderr",
     "output_type": "stream",
     "text": [
      "Some parameters are on the meta device device because they were offloaded to the disk and cpu.\n"
     ]
    }
   ],
   "source": [
    "del model\n",
    "model = AutoModelForCausalLM.from_pretrained(ckpt_dir, \n",
    "    return_dict=True,\n",
    "    torch_dtype=torch.float16, device_map=\"auto\")"
   ]
  },
  {
   "cell_type": "code",
   "execution_count": 6,
   "id": "469c74210bd06e14",
   "metadata": {
    "ExecuteTime": {
     "start_time": "2024-08-08T15:51:09.966350Z"
    },
    "jupyter": {
     "is_executing": true
    }
   },
   "outputs": [
    {
     "data": {
      "application/vnd.jupyter.widget-view+json": {
       "model_id": "26cae12c413d44358331449860853041",
       "version_major": 2,
       "version_minor": 0
      },
      "text/plain": [
       "Generating train split: 0 examples [00:00, ? examples/s]"
      ]
     },
     "metadata": {},
     "output_type": "display_data"
    },
    {
     "name": "stderr",
     "output_type": "stream",
     "text": [
      "`use_cache=True` is incompatible with gradient checkpointing. Setting `use_cache=False`.\n",
      "C:\\Users\\myper\\.conda\\envs\\ml\\lib\\site-packages\\torch\\_dynamo\\eval_frame.py:600: UserWarning: torch.utils.checkpoint: the use_reentrant parameter should be passed explicitly. In version 2.4 we will raise an exception if use_reentrant is not passed. use_reentrant=False is recommended, but if you need to preserve the current default behavior, you can pass use_reentrant=True. Refer to docs for more details on the differences between the two variants.\n",
      "  return fn(*args, **kwargs)\n",
      "C:\\Users\\myper\\.conda\\envs\\ml\\lib\\site-packages\\transformers\\models\\llama\\modeling_llama.py:603: UserWarning: 1Torch was not compiled with flash attention. (Triggered internally at C:\\actions-runner\\_work\\pytorch\\pytorch\\builder\\windows\\pytorch\\aten\\src\\ATen\\native\\transformers\\cuda\\sdp_utils.cpp:555.)\n",
      "  attn_output = torch.nn.functional.scaled_dot_product_attention(\n",
      "C:\\Users\\myper\\.conda\\envs\\ml\\lib\\site-packages\\torch\\utils\\checkpoint.py:295: FutureWarning: `torch.cpu.amp.autocast(args...)` is deprecated. Please use `torch.amp.autocast('cpu', args...)` instead.\n",
      "  with torch.enable_grad(), device_autocast_ctx, torch.cpu.amp.autocast(**ctx.cpu_autocast_kwargs):  # type: ignore[attr-defined]\n"
     ]
    },
    {
     "data": {
      "text/html": [
       "\n",
       "    <div>\n",
       "      \n",
       "      <progress value='42' max='42' style='width:300px; height:20px; vertical-align: middle;'></progress>\n",
       "      [42/42 01:10, Epoch 1/1]\n",
       "    </div>\n",
       "    <table border=\"1\" class=\"dataframe\">\n",
       "  <thead>\n",
       " <tr style=\"text-align: left;\">\n",
       "      <th>Step</th>\n",
       "      <th>Training Loss</th>\n",
       "    </tr>\n",
       "  </thead>\n",
       "  <tbody>\n",
       "    <tr>\n",
       "      <td>5</td>\n",
       "      <td>4.724500</td>\n",
       "    </tr>\n",
       "    <tr>\n",
       "      <td>10</td>\n",
       "      <td>3.603000</td>\n",
       "    </tr>\n",
       "    <tr>\n",
       "      <td>15</td>\n",
       "      <td>2.945200</td>\n",
       "    </tr>\n",
       "    <tr>\n",
       "      <td>20</td>\n",
       "      <td>2.688000</td>\n",
       "    </tr>\n",
       "    <tr>\n",
       "      <td>25</td>\n",
       "      <td>2.708900</td>\n",
       "    </tr>\n",
       "    <tr>\n",
       "      <td>30</td>\n",
       "      <td>2.400400</td>\n",
       "    </tr>\n",
       "    <tr>\n",
       "      <td>35</td>\n",
       "      <td>2.552400</td>\n",
       "    </tr>\n",
       "    <tr>\n",
       "      <td>40</td>\n",
       "      <td>2.518300</td>\n",
       "    </tr>\n",
       "  </tbody>\n",
       "</table><p>"
      ],
      "text/plain": [
       "<IPython.core.display.HTML object>"
      ]
     },
     "metadata": {},
     "output_type": "display_data"
    }
   ],
   "source": [
    "training_arguments = TrainingArguments(\n",
    "    output_dir=output_dir,\n",
    "    per_device_train_batch_size=1,\n",
    "    gradient_accumulation_steps=1,\n",
    "    num_train_epochs=1,\n",
    "    optim=\"paged_adamw_32bit\",\n",
    "    save_steps=100,\n",
    "    logging_steps=5,\n",
    "    learning_rate=0.0002,\n",
    "    fp16=False,\n",
    "    bf16=False,\n",
    "    max_grad_norm=0.3,\n",
    "    max_steps=-1,\n",
    "    warmup_ratio=0.03,\n",
    "    group_by_length=True,\n",
    "    lr_scheduler_type=\"cosine\",\n",
    "    dataloader_num_workers=0\n",
    ")\n",
    "\n",
    "trainer = SFTTrainer(\n",
    "    model=model,\n",
    "    train_dataset=text_dataset[\"train\"],\n",
    "    peft_config=peft_config,\n",
    "    # dataset_text_field=\"formattedchat\",\n",
    "    dataset_text_field=\"text\",\n",
    "    dataset_batch_size=2,\n",
    "    max_seq_length=512,\n",
    "    tokenizer=tokenizer,\n",
    "    args=training_arguments,\n",
    "    packing=True,\n",
    "    \n",
    ")\n",
    "\n",
    "trainer.train()\n",
    "trainer.model.save_pretrained(output_dir)"
   ]
  },
  {
   "cell_type": "code",
   "execution_count": 4,
   "id": "f66b1625f6b5f554",
   "metadata": {
    "ExecuteTime": {
     "end_time": "2024-08-08T15:24:56.214901Z",
     "start_time": "2024-08-08T15:24:30.738803Z"
    }
   },
   "outputs": [
    {
     "data": {
      "application/vnd.jupyter.widget-view+json": {
       "model_id": "6319e2206b274de8abfdc287a1c75b30",
       "version_major": 2,
       "version_minor": 0
      },
      "text/plain": [
       "Loading checkpoint shards:   0%|          | 0/4 [00:00<?, ?it/s]"
      ]
     },
     "metadata": {},
     "output_type": "display_data"
    },
    {
     "ename": "ValueError",
     "evalue": "Can't find 'adapter_config.json' at 'F:\\AugustRoboticsLLM\\LoRAAdapter'",
     "output_type": "error",
     "traceback": [
      "\u001b[1;31m---------------------------------------------------------------------------\u001b[0m",
      "\u001b[1;31mHFValidationError\u001b[0m                         Traceback (most recent call last)",
      "File \u001b[1;32m~\\.conda\\envs\\ml\\lib\\site-packages\\peft\\config.py:205\u001b[0m, in \u001b[0;36mPeftConfigMixin._get_peft_type\u001b[1;34m(cls, model_id, **hf_hub_download_kwargs)\u001b[0m\n\u001b[0;32m    204\u001b[0m \u001b[38;5;28;01mtry\u001b[39;00m:\n\u001b[1;32m--> 205\u001b[0m     config_file \u001b[38;5;241m=\u001b[39m hf_hub_download(\n\u001b[0;32m    206\u001b[0m         model_id,\n\u001b[0;32m    207\u001b[0m         CONFIG_NAME,\n\u001b[0;32m    208\u001b[0m         \u001b[38;5;241m*\u001b[39m\u001b[38;5;241m*\u001b[39mhf_hub_download_kwargs,\n\u001b[0;32m    209\u001b[0m     )\n\u001b[0;32m    210\u001b[0m \u001b[38;5;28;01mexcept\u001b[39;00m \u001b[38;5;167;01mException\u001b[39;00m:\n",
      "File \u001b[1;32m~\\.conda\\envs\\ml\\lib\\site-packages\\huggingface_hub\\utils\\_deprecation.py:101\u001b[0m, in \u001b[0;36m_deprecate_arguments.<locals>._inner_deprecate_positional_args.<locals>.inner_f\u001b[1;34m(*args, **kwargs)\u001b[0m\n\u001b[0;32m    100\u001b[0m     warnings\u001b[38;5;241m.\u001b[39mwarn(message, \u001b[38;5;167;01mFutureWarning\u001b[39;00m)\n\u001b[1;32m--> 101\u001b[0m \u001b[38;5;28;01mreturn\u001b[39;00m f(\u001b[38;5;241m*\u001b[39margs, \u001b[38;5;241m*\u001b[39m\u001b[38;5;241m*\u001b[39mkwargs)\n",
      "File \u001b[1;32m~\\.conda\\envs\\ml\\lib\\site-packages\\huggingface_hub\\utils\\_validators.py:106\u001b[0m, in \u001b[0;36mvalidate_hf_hub_args.<locals>._inner_fn\u001b[1;34m(*args, **kwargs)\u001b[0m\n\u001b[0;32m    105\u001b[0m \u001b[38;5;28;01mif\u001b[39;00m arg_name \u001b[38;5;129;01min\u001b[39;00m [\u001b[38;5;124m\"\u001b[39m\u001b[38;5;124mrepo_id\u001b[39m\u001b[38;5;124m\"\u001b[39m, \u001b[38;5;124m\"\u001b[39m\u001b[38;5;124mfrom_id\u001b[39m\u001b[38;5;124m\"\u001b[39m, \u001b[38;5;124m\"\u001b[39m\u001b[38;5;124mto_id\u001b[39m\u001b[38;5;124m\"\u001b[39m]:\n\u001b[1;32m--> 106\u001b[0m     \u001b[43mvalidate_repo_id\u001b[49m\u001b[43m(\u001b[49m\u001b[43marg_value\u001b[49m\u001b[43m)\u001b[49m\n\u001b[0;32m    108\u001b[0m \u001b[38;5;28;01melif\u001b[39;00m arg_name \u001b[38;5;241m==\u001b[39m \u001b[38;5;124m\"\u001b[39m\u001b[38;5;124mtoken\u001b[39m\u001b[38;5;124m\"\u001b[39m \u001b[38;5;129;01mand\u001b[39;00m arg_value \u001b[38;5;129;01mis\u001b[39;00m \u001b[38;5;129;01mnot\u001b[39;00m \u001b[38;5;28;01mNone\u001b[39;00m:\n",
      "File \u001b[1;32m~\\.conda\\envs\\ml\\lib\\site-packages\\huggingface_hub\\utils\\_validators.py:160\u001b[0m, in \u001b[0;36mvalidate_repo_id\u001b[1;34m(repo_id)\u001b[0m\n\u001b[0;32m    159\u001b[0m \u001b[38;5;28;01mif\u001b[39;00m \u001b[38;5;129;01mnot\u001b[39;00m REPO_ID_REGEX\u001b[38;5;241m.\u001b[39mmatch(repo_id):\n\u001b[1;32m--> 160\u001b[0m     \u001b[38;5;28;01mraise\u001b[39;00m HFValidationError(\n\u001b[0;32m    161\u001b[0m         \u001b[38;5;124m\"\u001b[39m\u001b[38;5;124mRepo id must use alphanumeric chars or \u001b[39m\u001b[38;5;124m'\u001b[39m\u001b[38;5;124m-\u001b[39m\u001b[38;5;124m'\u001b[39m\u001b[38;5;124m, \u001b[39m\u001b[38;5;124m'\u001b[39m\u001b[38;5;124m_\u001b[39m\u001b[38;5;124m'\u001b[39m\u001b[38;5;124m, \u001b[39m\u001b[38;5;124m'\u001b[39m\u001b[38;5;124m.\u001b[39m\u001b[38;5;124m'\u001b[39m\u001b[38;5;124m, \u001b[39m\u001b[38;5;124m'\u001b[39m\u001b[38;5;124m--\u001b[39m\u001b[38;5;124m'\u001b[39m\u001b[38;5;124m and \u001b[39m\u001b[38;5;124m'\u001b[39m\u001b[38;5;124m..\u001b[39m\u001b[38;5;124m'\u001b[39m\u001b[38;5;124m are\u001b[39m\u001b[38;5;124m\"\u001b[39m\n\u001b[0;32m    162\u001b[0m         \u001b[38;5;124m\"\u001b[39m\u001b[38;5;124m forbidden, \u001b[39m\u001b[38;5;124m'\u001b[39m\u001b[38;5;124m-\u001b[39m\u001b[38;5;124m'\u001b[39m\u001b[38;5;124m and \u001b[39m\u001b[38;5;124m'\u001b[39m\u001b[38;5;124m.\u001b[39m\u001b[38;5;124m'\u001b[39m\u001b[38;5;124m cannot start or end the name, max length is 96:\u001b[39m\u001b[38;5;124m\"\u001b[39m\n\u001b[0;32m    163\u001b[0m         \u001b[38;5;124mf\u001b[39m\u001b[38;5;124m\"\u001b[39m\u001b[38;5;124m \u001b[39m\u001b[38;5;124m'\u001b[39m\u001b[38;5;132;01m{\u001b[39;00mrepo_id\u001b[38;5;132;01m}\u001b[39;00m\u001b[38;5;124m'\u001b[39m\u001b[38;5;124m.\u001b[39m\u001b[38;5;124m\"\u001b[39m\n\u001b[0;32m    164\u001b[0m     )\n\u001b[0;32m    166\u001b[0m \u001b[38;5;28;01mif\u001b[39;00m \u001b[38;5;124m\"\u001b[39m\u001b[38;5;124m--\u001b[39m\u001b[38;5;124m\"\u001b[39m \u001b[38;5;129;01min\u001b[39;00m repo_id \u001b[38;5;129;01mor\u001b[39;00m \u001b[38;5;124m\"\u001b[39m\u001b[38;5;124m..\u001b[39m\u001b[38;5;124m\"\u001b[39m \u001b[38;5;129;01min\u001b[39;00m repo_id:\n",
      "\u001b[1;31mHFValidationError\u001b[0m: Repo id must use alphanumeric chars or '-', '_', '.', '--' and '..' are forbidden, '-' and '.' cannot start or end the name, max length is 96: 'F:\\AugustRoboticsLLM\\LoRAAdapter'.",
      "\nDuring handling of the above exception, another exception occurred:\n",
      "\u001b[1;31mValueError\u001b[0m                                Traceback (most recent call last)",
      "Cell \u001b[1;32mIn[4], line 8\u001b[0m\n\u001b[0;32m      1\u001b[0m base_model \u001b[38;5;241m=\u001b[39m AutoModelForCausalLM\u001b[38;5;241m.\u001b[39mfrom_pretrained(\n\u001b[0;32m      2\u001b[0m     ckpt_dir,\n\u001b[0;32m      3\u001b[0m     low_cpu_mem_usage\u001b[38;5;241m=\u001b[39m\u001b[38;5;28;01mTrue\u001b[39;00m,\n\u001b[1;32m   (...)\u001b[0m\n\u001b[0;32m      6\u001b[0m     offload_buffers\u001b[38;5;241m=\u001b[39m\u001b[38;5;28;01mFalse\u001b[39;00m,\n\u001b[0;32m      7\u001b[0m )\n\u001b[1;32m----> 8\u001b[0m model \u001b[38;5;241m=\u001b[39m \u001b[43mPeftModel\u001b[49m\u001b[38;5;241;43m.\u001b[39;49m\u001b[43mfrom_pretrained\u001b[49m\u001b[43m(\u001b[49m\u001b[43mbase_model\u001b[49m\u001b[43m,\u001b[49m\u001b[43m \u001b[49m\u001b[38;5;124;43m\"\u001b[39;49m\u001b[38;5;124;43mF:\u001b[39;49m\u001b[38;5;124;43m\\\u001b[39;49m\u001b[38;5;124;43mAugustRoboticsLLM\u001b[39;49m\u001b[38;5;124;43m\\\u001b[39;49m\u001b[38;5;124;43mLoRAAdapter\u001b[39;49m\u001b[38;5;124;43m\"\u001b[39;49m\u001b[43m,\u001b[49m\u001b[43m \u001b[49m\u001b[43mdevice_map\u001b[49m\u001b[38;5;241;43m=\u001b[39;49m\u001b[38;5;124;43m\"\u001b[39;49m\u001b[38;5;124;43mcpu\u001b[39;49m\u001b[38;5;124;43m\"\u001b[39;49m\u001b[43m)\u001b[49m\n\u001b[0;32m      9\u001b[0m model \u001b[38;5;241m=\u001b[39m model\u001b[38;5;241m.\u001b[39mmerge_and_unload()\n\u001b[0;32m     10\u001b[0m model\u001b[38;5;241m.\u001b[39msave_pretrained(\u001b[38;5;124m\"\u001b[39m\u001b[38;5;124mF:\u001b[39m\u001b[38;5;124m\\\u001b[39m\u001b[38;5;124mAugustRoboticsLLM\u001b[39m\u001b[38;5;124m\\\u001b[39m\u001b[38;5;124mARLLM\u001b[39m\u001b[38;5;124m\"\u001b[39m)\n",
      "File \u001b[1;32m~\\.conda\\envs\\ml\\lib\\site-packages\\peft\\peft_model.py:453\u001b[0m, in \u001b[0;36mPeftModel.from_pretrained\u001b[1;34m(cls, model, model_id, adapter_name, is_trainable, config, autocast_adapter_dtype, ephemeral_gpu_offload, **kwargs)\u001b[0m\n\u001b[0;32m    450\u001b[0m \u001b[38;5;66;03m# load the config\u001b[39;00m\n\u001b[0;32m    451\u001b[0m \u001b[38;5;28;01mif\u001b[39;00m config \u001b[38;5;129;01mis\u001b[39;00m \u001b[38;5;28;01mNone\u001b[39;00m:\n\u001b[0;32m    452\u001b[0m     config \u001b[38;5;241m=\u001b[39m PEFT_TYPE_TO_CONFIG_MAPPING[\n\u001b[1;32m--> 453\u001b[0m         \u001b[43mPeftConfig\u001b[49m\u001b[38;5;241;43m.\u001b[39;49m\u001b[43m_get_peft_type\u001b[49m\u001b[43m(\u001b[49m\n\u001b[0;32m    454\u001b[0m \u001b[43m            \u001b[49m\u001b[43mmodel_id\u001b[49m\u001b[43m,\u001b[49m\n\u001b[0;32m    455\u001b[0m \u001b[43m            \u001b[49m\u001b[43msubfolder\u001b[49m\u001b[38;5;241;43m=\u001b[39;49m\u001b[43mkwargs\u001b[49m\u001b[38;5;241;43m.\u001b[39;49m\u001b[43mget\u001b[49m\u001b[43m(\u001b[49m\u001b[38;5;124;43m\"\u001b[39;49m\u001b[38;5;124;43msubfolder\u001b[39;49m\u001b[38;5;124;43m\"\u001b[39;49m\u001b[43m,\u001b[49m\u001b[43m \u001b[49m\u001b[38;5;28;43;01mNone\u001b[39;49;00m\u001b[43m)\u001b[49m\u001b[43m,\u001b[49m\n\u001b[0;32m    456\u001b[0m \u001b[43m            \u001b[49m\u001b[43mrevision\u001b[49m\u001b[38;5;241;43m=\u001b[39;49m\u001b[43mkwargs\u001b[49m\u001b[38;5;241;43m.\u001b[39;49m\u001b[43mget\u001b[49m\u001b[43m(\u001b[49m\u001b[38;5;124;43m\"\u001b[39;49m\u001b[38;5;124;43mrevision\u001b[39;49m\u001b[38;5;124;43m\"\u001b[39;49m\u001b[43m,\u001b[49m\u001b[43m \u001b[49m\u001b[38;5;28;43;01mNone\u001b[39;49;00m\u001b[43m)\u001b[49m\u001b[43m,\u001b[49m\n\u001b[0;32m    457\u001b[0m \u001b[43m            \u001b[49m\u001b[43mcache_dir\u001b[49m\u001b[38;5;241;43m=\u001b[39;49m\u001b[43mkwargs\u001b[49m\u001b[38;5;241;43m.\u001b[39;49m\u001b[43mget\u001b[49m\u001b[43m(\u001b[49m\u001b[38;5;124;43m\"\u001b[39;49m\u001b[38;5;124;43mcache_dir\u001b[39;49m\u001b[38;5;124;43m\"\u001b[39;49m\u001b[43m,\u001b[49m\u001b[43m \u001b[49m\u001b[38;5;28;43;01mNone\u001b[39;49;00m\u001b[43m)\u001b[49m\u001b[43m,\u001b[49m\n\u001b[0;32m    458\u001b[0m \u001b[43m            \u001b[49m\u001b[43muse_auth_token\u001b[49m\u001b[38;5;241;43m=\u001b[39;49m\u001b[43mkwargs\u001b[49m\u001b[38;5;241;43m.\u001b[39;49m\u001b[43mget\u001b[49m\u001b[43m(\u001b[49m\u001b[38;5;124;43m\"\u001b[39;49m\u001b[38;5;124;43muse_auth_token\u001b[39;49m\u001b[38;5;124;43m\"\u001b[39;49m\u001b[43m,\u001b[49m\u001b[43m \u001b[49m\u001b[38;5;28;43;01mNone\u001b[39;49;00m\u001b[43m)\u001b[49m\u001b[43m,\u001b[49m\n\u001b[0;32m    459\u001b[0m \u001b[43m            \u001b[49m\u001b[43mtoken\u001b[49m\u001b[38;5;241;43m=\u001b[39;49m\u001b[43mkwargs\u001b[49m\u001b[38;5;241;43m.\u001b[39;49m\u001b[43mget\u001b[49m\u001b[43m(\u001b[49m\u001b[38;5;124;43m\"\u001b[39;49m\u001b[38;5;124;43mtoken\u001b[39;49m\u001b[38;5;124;43m\"\u001b[39;49m\u001b[43m,\u001b[49m\u001b[43m \u001b[49m\u001b[38;5;28;43;01mNone\u001b[39;49;00m\u001b[43m)\u001b[49m\u001b[43m,\u001b[49m\n\u001b[0;32m    460\u001b[0m \u001b[43m        \u001b[49m\u001b[43m)\u001b[49m\n\u001b[0;32m    461\u001b[0m     ]\u001b[38;5;241m.\u001b[39mfrom_pretrained(model_id, \u001b[38;5;241m*\u001b[39m\u001b[38;5;241m*\u001b[39mkwargs)\n\u001b[0;32m    462\u001b[0m \u001b[38;5;28;01melif\u001b[39;00m \u001b[38;5;28misinstance\u001b[39m(config, PeftConfig):\n\u001b[0;32m    463\u001b[0m     config\u001b[38;5;241m.\u001b[39minference_mode \u001b[38;5;241m=\u001b[39m \u001b[38;5;129;01mnot\u001b[39;00m is_trainable\n",
      "File \u001b[1;32m~\\.conda\\envs\\ml\\lib\\site-packages\\peft\\config.py:211\u001b[0m, in \u001b[0;36mPeftConfigMixin._get_peft_type\u001b[1;34m(cls, model_id, **hf_hub_download_kwargs)\u001b[0m\n\u001b[0;32m    205\u001b[0m         config_file \u001b[38;5;241m=\u001b[39m hf_hub_download(\n\u001b[0;32m    206\u001b[0m             model_id,\n\u001b[0;32m    207\u001b[0m             CONFIG_NAME,\n\u001b[0;32m    208\u001b[0m             \u001b[38;5;241m*\u001b[39m\u001b[38;5;241m*\u001b[39mhf_hub_download_kwargs,\n\u001b[0;32m    209\u001b[0m         )\n\u001b[0;32m    210\u001b[0m     \u001b[38;5;28;01mexcept\u001b[39;00m \u001b[38;5;167;01mException\u001b[39;00m:\n\u001b[1;32m--> 211\u001b[0m         \u001b[38;5;28;01mraise\u001b[39;00m \u001b[38;5;167;01mValueError\u001b[39;00m(\u001b[38;5;124mf\u001b[39m\u001b[38;5;124m\"\u001b[39m\u001b[38;5;124mCan\u001b[39m\u001b[38;5;124m'\u001b[39m\u001b[38;5;124mt find \u001b[39m\u001b[38;5;124m'\u001b[39m\u001b[38;5;132;01m{\u001b[39;00mCONFIG_NAME\u001b[38;5;132;01m}\u001b[39;00m\u001b[38;5;124m'\u001b[39m\u001b[38;5;124m at \u001b[39m\u001b[38;5;124m'\u001b[39m\u001b[38;5;132;01m{\u001b[39;00mmodel_id\u001b[38;5;132;01m}\u001b[39;00m\u001b[38;5;124m'\u001b[39m\u001b[38;5;124m\"\u001b[39m)\n\u001b[0;32m    213\u001b[0m loaded_attributes \u001b[38;5;241m=\u001b[39m \u001b[38;5;28mcls\u001b[39m\u001b[38;5;241m.\u001b[39mfrom_json_file(config_file)\n\u001b[0;32m    214\u001b[0m \u001b[38;5;28;01mreturn\u001b[39;00m loaded_attributes[\u001b[38;5;124m\"\u001b[39m\u001b[38;5;124mpeft_type\u001b[39m\u001b[38;5;124m\"\u001b[39m]\n",
      "\u001b[1;31mValueError\u001b[0m: Can't find 'adapter_config.json' at 'F:\\AugustRoboticsLLM\\LoRAAdapter'"
     ]
    }
   ],
   "source": [
    "base_model = AutoModelForCausalLM.from_pretrained(\n",
    "    ckpt_dir,\n",
    "    low_cpu_mem_usage=True,\n",
    "    torch_dtype=torch.float16,\n",
    "    device_map=\"cpu\",\n",
    "    offload_buffers=False,\n",
    ")\n",
    "model = PeftModel.from_pretrained(base_model, \"F:\\AugustRoboticsLLM\\LoRAAdapter\", device_map=\"cpu\")\n",
    "model = model.merge_and_unload()\n",
    "model.save_pretrained(\"F:\\AugustRoboticsLLM\\ARLLM\")"
   ]
  },
  {
   "cell_type": "code",
   "execution_count": 12,
   "id": "c170d830fda25b13",
   "metadata": {},
   "outputs": [
    {
     "name": "stdout",
     "output_type": "stream",
     "text": [
      "{'input_ids': tensor([[128000,     40,   4510,    279,   7438,    315,   2324,    374, 128009,\n",
      "         128009, 128009, 128009, 128009, 128009, 128009, 128009, 128009, 128009,\n",
      "         128009, 128009, 128009, 128009, 128009, 128009, 128009, 128009, 128009,\n",
      "         128009, 128009, 128009, 128009, 128009, 128009, 128009, 128009, 128009,\n",
      "         128009, 128009, 128009, 128009],\n",
      "        [128000,  61346,   2231,     11,    279,  10334,    315,   1375,  44515,\n",
      "           5415,    430,    220, 128009, 128009, 128009, 128009, 128009, 128009,\n",
      "         128009, 128009, 128009, 128009, 128009, 128009, 128009, 128009, 128009,\n",
      "         128009, 128009, 128009, 128009, 128009, 128009, 128009, 128009, 128009,\n",
      "         128009, 128009, 128009, 128009],\n",
      "        [128000,     32,  10015,   1984,  40588,  15853,    279,   2128,    389,\n",
      "            279,   7195,   1473,    286,  21694,   5127,   3638,    286,    358,\n",
      "           1120,    220, 128009, 128009, 128009, 128009, 128009, 128009, 128009,\n",
      "         128009, 128009, 128009, 128009, 128009, 128009, 128009, 128009, 128009,\n",
      "         128009, 128009, 128009, 128009],\n",
      "        [128000,  28573,   6498,    311,   8753,   1473,    286,   9581,  14479,\n",
      "            466,    591,    326,    412,    265,    409,   4809,    198,    286,\n",
      "          83804,  94932,    591,  11540,    383,   3273,  58866,   8047,    198,\n",
      "            286,  72779,  41389,   5763,    591,  41389,   5763,  12077,  34927,\n",
      "            198,    286,  17604,    591]]), 'attention_mask': tensor([[1, 1, 1, 1, 1, 1, 1, 1, 0, 0, 0, 0, 0, 0, 0, 0, 0, 0, 0, 0, 0, 0, 0, 0,\n",
      "         0, 0, 0, 0, 0, 0, 0, 0, 0, 0, 0, 0, 0, 0, 0, 0],\n",
      "        [1, 1, 1, 1, 1, 1, 1, 1, 1, 1, 1, 1, 0, 0, 0, 0, 0, 0, 0, 0, 0, 0, 0, 0,\n",
      "         0, 0, 0, 0, 0, 0, 0, 0, 0, 0, 0, 0, 0, 0, 0, 0],\n",
      "        [1, 1, 1, 1, 1, 1, 1, 1, 1, 1, 1, 1, 1, 1, 1, 1, 1, 1, 1, 1, 0, 0, 0, 0,\n",
      "         0, 0, 0, 0, 0, 0, 0, 0, 0, 0, 0, 0, 0, 0, 0, 0],\n",
      "        [1, 1, 1, 1, 1, 1, 1, 1, 1, 1, 1, 1, 1, 1, 1, 1, 1, 1, 1, 1, 1, 1, 1, 1,\n",
      "         1, 1, 1, 1, 1, 1, 1, 1, 1, 1, 1, 1, 1, 1, 1, 1]])}\n"
     ]
    }
   ],
   "source": [
    "prompts = [\n",
    "        # For these prompts, the expected answer is the natural continuation of the prompt\n",
    "        \"I believe the meaning of life is\",\n",
    "    \n",
    "        \"Simply put, the theory of relativity states that \",\n",
    "    \n",
    "        \"\"\"A brief message congratulating the team on the launch:\n",
    "        Hi everyone,\n",
    "        I just \"\"\",\n",
    "    \n",
    "        # Few shot prompt (providing a few examples before asking model to complete more);\n",
    "        \"\"\"Translate English to French:\n",
    "        sea otter => loutre de mer\n",
    "        peppermint => menthe poivrée\n",
    "        plush girafe => girafe peluche\n",
    "        cheese =>\"\"\",\n",
    "    ]\n",
    "inputs = tokenizer(prompts, padding=True, truncation=True, return_tensors=\"pt\", max_length=512)\n",
    "print(inputs)"
   ]
  },
  {
   "cell_type": "code",
   "execution_count": 37,
   "id": "af1947c83fc72c0c",
   "metadata": {},
   "outputs": [
    {
     "name": "stderr",
     "output_type": "stream",
     "text": [
      "Setting `pad_token_id` to `eos_token_id`:128001 for open-end generation.\n"
     ]
    },
    {
     "name": "stdout",
     "output_type": "stream",
     "text": [
      "{'input_ids': tensor([[128000, 128000, 128006,   9125, 128007,    271,   7927,   3560,    374,\n",
      "            459,    389,  29654,  74706,   5784,  24490,    889,   6835,  11156,\n",
      "            323,  15325,   9650,    311,   3016,    889,   1005,  84224,  12585,\n",
      "            311,   4128,   5238,    389,    279,   5015,    627,   2675,   9352,\n",
      "            311,   6287,  77564,  12604,     13,   5321,    656,    539,   4320,\n",
      "            904,   3488,    539,  29243,    311,   1057,   2626,     11,    499,\n",
      "            649,   5042,  26122,    433,    555,   5605,    912,    627,  10267,\n",
      "            596,   1781,   1555,    420,  15884,     11,   3094,    555,   3094,\n",
      "             13, 128009, 128006,    882, 128007,    271,     43,    290,    301,\n",
      "          82981,    374,  19857,     11,   1148,   1288,    358,    656,     30,\n",
      "         128009]], device='cuda:0'), 'attention_mask': tensor([[1, 1, 1, 1, 1, 1, 1, 1, 1, 1, 1, 1, 1, 1, 1, 1, 1, 1, 1, 1, 1, 1, 1, 1,\n",
      "         1, 1, 1, 1, 1, 1, 1, 1, 1, 1, 1, 1, 1, 1, 1, 1, 1, 1, 1, 1, 1, 1, 1, 1,\n",
      "         1, 1, 1, 1, 1, 1, 1, 1, 1, 1, 1, 1, 1, 1, 1, 1, 1, 1, 1, 1, 1, 1, 1, 1,\n",
      "         1, 1, 1, 1, 1, 1, 1, 1, 1, 1, 1, 1, 1, 1, 1, 1, 1, 1, 1]],\n",
      "       device='cuda:0')}\n",
      "<|begin_of_text|><|begin_of_text|><|start_header_id|>system<|end_header_id|>\n",
      "\n",
      "Your role is an on-site robotics operation engineer who gives technical and practical advice to client who use Lionel robot to draw lines on the ground.\n",
      "You belong to August Robotics Ltd. Please do not answer any question not relate to our business, you can simply refuse it by saying no.\n",
      "Let's think through this carefully, step by step.<|eot_id|><|start_header_id|>user<|end_header_id|>\n",
      "\n",
      "Lionel nozzle is blocked, what should I do?<|eot_id|><|start_header_id|>assistant<|end_header_id|>\n",
      "\n",
      "Here are the possible solutions provided by me: Perform a short air burst using the button\n",
      "Rinse the nozzle with water\n",
      "Replace the nozzle with a new one\n",
      "Contact an AR representative\n",
      "Perform a long air burst using the button\n",
      "Try to unclog the nozzle with a small, thin object like a paperclip\n",
      "Organise a replacement of the CSP, likely needs repair / replacement\n",
      "Check for blockages in the hose from the bottle to the CSP\n",
      "Escalate\n"
     ]
    }
   ],
   "source": [
    "generation_config = GenerationConfig.from_pretrained(ckpt_dir)\n",
    "generation_config.max_new_tokens=100\n",
    "generation_config.repetition_penalty = 1.1\n",
    "model_inputs = tokenizer(tokenizer.apply_chat_template([{\"role\": \"system\", \"content\": \"Your role is an on-site robotics operation engineer who gives technical and practical advice to client who use Lionel robot to draw lines on the ground.\\n\"\n",
    "                                       \"You belong to August Robotics Ltd. Please do not answer any question not relate to our business, you can simply refuse it by saying no.\\n\"\n",
    "                                       \"Let's think through this carefully, step by step.\\n\"},{\"role\": \"user\", \"content\": \"Lionel nozzle is blocked, what should I do?\"}], tokenize=False), return_tensors=\"pt\").to(\"cuda\")\n",
    "print(model_inputs)\n",
    "output = model.generate(**model_inputs, generation_config=generation_config)\n",
    "print(tokenizer.decode(output[0], skip_special_tokens=False))"
   ]
  },
  {
   "cell_type": "code",
   "execution_count": 5,
   "id": "e023b9f7ecd8ed3d",
   "metadata": {
    "ExecuteTime": {
     "end_time": "2024-08-08T15:25:14.256812Z",
     "start_time": "2024-08-08T15:25:14.145299Z"
    }
   },
   "outputs": [
    {
     "data": {
      "text/plain": [
       "1505"
      ]
     },
     "execution_count": 5,
     "metadata": {},
     "output_type": "execute_result"
    }
   ],
   "source": [
    "import gc\n",
    "del base_model\n",
    "gc.collect()"
   ]
  },
  {
   "cell_type": "code",
   "execution_count": 31,
   "id": "f0e59dad73617d9f",
   "metadata": {
    "ExecuteTime": {
     "end_time": "2024-08-06T15:40:06.171509Z",
     "start_time": "2024-08-06T15:40:06.140995Z"
    }
   },
   "outputs": [],
   "source": [
    "del model"
   ]
  },
  {
   "cell_type": "code",
   "execution_count": 33,
   "id": "f966435e59825e8b",
   "metadata": {
    "ExecuteTime": {
     "end_time": "2024-08-06T15:40:10.183658Z",
     "start_time": "2024-08-06T15:40:10.064149Z"
    }
   },
   "outputs": [
    {
     "data": {
      "text/plain": [
       "33"
      ]
     },
     "execution_count": 33,
     "metadata": {},
     "output_type": "execute_result"
    }
   ],
   "source": [
    "gc.collect()"
   ]
  },
  {
   "cell_type": "code",
   "execution_count": null,
   "id": "2dfcd88fcc728a",
   "metadata": {},
   "outputs": [],
   "source": []
  }
 ],
 "metadata": {
  "kernelspec": {
   "display_name": "Python 3 (ipykernel)",
   "language": "python",
   "name": "python3"
  },
  "language_info": {
   "codemirror_mode": {
    "name": "ipython",
    "version": 3
   },
   "file_extension": ".py",
   "mimetype": "text/x-python",
   "name": "python",
   "nbconvert_exporter": "python",
   "pygments_lexer": "ipython3",
   "version": "3.9.18"
  }
 },
 "nbformat": 4,
 "nbformat_minor": 5
}
