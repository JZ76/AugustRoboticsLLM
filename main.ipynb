{
 "cells": [
  {
   "cell_type": "code",
   "id": "87d5286ddccf165",
   "metadata": {
    "ExecuteTime": {
     "end_time": "2024-08-10T01:13:43.270144Z",
     "start_time": "2024-08-10T01:13:29.347158Z"
    }
   },
   "source": [
    "from llama3 import Llama\n",
    "import torch\n",
    "from pathlib import Path\n",
    "import json\n",
    "from llama3.model import ModelArgs, Transformer\n",
    "from llama3.tokenizer import ChatFormat, Dialog, Message, Tokenizer\n",
    "from transformers import AutoTokenizer, AutoModelForCausalLM, BitsAndBytesConfig, GenerationConfig, TrainingArguments\n",
    "from peft import LoraConfig, prepare_model_for_kbit_training, PeftModel, PeftConfig\n",
    "from trl import SFTTrainer\n",
    "from datasets import load_dataset, Dataset, Features, ClassLabel, Value"
   ],
   "outputs": [],
   "execution_count": 1
  },
  {
   "cell_type": "code",
   "id": "475f1a30ad5e6edc",
   "metadata": {
    "ExecuteTime": {
     "end_time": "2024-08-10T01:13:43.285145Z",
     "start_time": "2024-08-10T01:13:43.271146Z"
    }
   },
   "source": [
    "ckpt_dir = \"F:\\AugustRoboticsLLM\\Meta-Llama-3-8B-Instruct\"\n",
    "tokenizer_path = \"F:\\AugustRoboticsLLM\\Meta-Llama-3-8B-Instruct\"\n",
    "output_dir = \"F:\\AugustRoboticsLLM\\LoRAAdapter\"\n",
    "bnb_config = BitsAndBytesConfig(\n",
    "    load_in_4bit=True,\n",
    "    bnb_4bit_use_double_quant=True,\n",
    "    bnb_4bit_quant_type=\"nf4\",\n",
    "    bnb_4bit_compute_dtype=torch.bfloat16\n",
    ")\n",
    "peft_config = LoraConfig(\n",
    "    r=32,\n",
    "    lora_alpha=16,\n",
    "    lora_dropout=0.1,\n",
    "    bias=\"none\",\n",
    "    task_type=\"CAUSAL_LM\",\n",
    "    target_modules=[\"q_proj\",\n",
    "    \"up_proj\",\n",
    "    \"o_proj\",\n",
    "    \"k_proj\",\n",
    "    \"down_proj\",\n",
    "    \"gate_proj\",\n",
    "    \"v_proj\"],\n",
    ")"
   ],
   "outputs": [],
   "execution_count": 2
  },
  {
   "cell_type": "code",
   "id": "29050385135d4d03",
   "metadata": {
    "ExecuteTime": {
     "end_time": "2024-08-10T01:13:43.608020Z",
     "start_time": "2024-08-10T01:13:43.286146Z"
    }
   },
   "source": [
    "tokenizer = AutoTokenizer.from_pretrained(tokenizer_path, trust_remote_code=True, add_bos_token=False)\n",
    "tokenizer.padding_side = \"right\"\n",
    "tokenizer.pad_token = tokenizer.eos_token"
   ],
   "outputs": [],
   "execution_count": 3
  },
  {
   "cell_type": "code",
   "id": "d962c406b7c6bbd4",
   "metadata": {
    "ExecuteTime": {
     "end_time": "2024-08-10T01:23:00.716463Z",
     "start_time": "2024-08-10T01:22:57.909003Z"
    }
   },
   "source": [
    "class_names = [\"Symptom\", \"Solution1\", \"Solution2\", \"Solution3\", \"Solution4\", \"Solution5\", \"Solution6\", \"Solution7\"]\n",
    "features = Features({name: Value('string') for name in class_names})\n",
    "QandA_dataset = load_dataset(\"csv\", data_dir=\"F:\\AugustRoboticsLLM\\dataset\", sep=',', quoting=1, quotechar=r'\"', doublequote=True, features=features)"
   ],
   "outputs": [],
   "execution_count": 7
  },
  {
   "cell_type": "code",
   "id": "366cf3931a952e28",
   "metadata": {
    "ExecuteTime": {
     "end_time": "2024-08-10T01:23:00.903501Z",
     "start_time": "2024-08-10T01:23:00.717465Z"
    }
   },
   "source": [
    "def prepare_dataset(dataset, tokenizer=tokenizer):\n",
    "    # prompting eng: https://github.com/meta-llama/llama-recipes/blob/main/recipes/quickstart/Prompt_Engineering_with_Llama_3.ipynb\n",
    "    # print(dataset)\n",
    "    solutions = []\n",
    "    for col in ['Solution1', 'Solution2', 'Solution3', 'Solution4', 'Solution5', 'Solution6', 'Solution7']:\n",
    "        if dataset[col] != None:\n",
    "            # print(dataset[col])\n",
    "            solutions.append(dataset[col])\n",
    "    \n",
    "    str_solutions = \"\"\n",
    "    for _idx, solution in enumerate(solutions):\n",
    "        str_solutions += solution + \". \"\n",
    "    dialogs = [\n",
    "        [{\"role\": \"system\", \"content\": \"Your role is an on-site robotics operation engineer who gives technical and practical advice to client who use Lionel robot to draw lines on the ground.\\n\"\n",
    "                                       \"You belong to August Robotics Ltd. Please do not answer any question not relate to our business, you can simply refuse it by saying no.\\n\"\n",
    "                                       \"Let's think through this carefully, step by step.\\n\"},\n",
    "        {\"role\": \"user\", \"content\": f\"{dataset['Symptom']}\"},\n",
    "    {\"role\": \"assistant\", \"content\": f\"{str_solutions}\"\n",
    "                                          }],\n",
    "    ]\n",
    "    # print(type(tokenizer.apply_chat_template(dialogs, tokenize=False)[0]))\n",
    "    return {\"formattedchat\": tokenizer.apply_chat_template(dialogs, tokenize=False)[0]}\n",
    "\n",
    "QandA_dataset = QandA_dataset.map(prepare_dataset, remove_columns=('Symptom', 'Solution1', 'Solution2', 'Solution3', 'Solution4', 'Solution5', 'Solution6', 'Solution7'))\n",
    "# QandA_dataset = QandA_dataset.train_test_split(test_size=0.1)\n",
    "QandA_dataset"
   ],
   "outputs": [
    {
     "data": {
      "text/plain": [
       "Map:   0%|          | 0/44 [00:00<?, ? examples/s]"
      ],
      "application/vnd.jupyter.widget-view+json": {
       "version_major": 2,
       "version_minor": 0,
       "model_id": "b4e0fa39e84344df8a49aa6d69e321d3"
      }
     },
     "metadata": {},
     "output_type": "display_data"
    },
    {
     "data": {
      "text/plain": [
       "DatasetDict({\n",
       "    train: Dataset({\n",
       "        features: ['formattedchat'],\n",
       "        num_rows: 44\n",
       "    })\n",
       "})"
      ]
     },
     "execution_count": 8,
     "metadata": {},
     "output_type": "execute_result"
    }
   ],
   "execution_count": 8
  },
  {
   "metadata": {
    "ExecuteTime": {
     "end_time": "2024-08-09T17:07:26.480367Z",
     "start_time": "2024-08-09T17:07:26.462369Z"
    }
   },
   "cell_type": "code",
   "source": "print(QandA_dataset[\"train\"][\"formattedchat\"][0])",
   "id": "af1efc90f8197165",
   "outputs": [
    {
     "name": "stdout",
     "output_type": "stream",
     "text": [
      "<|begin_of_text|><|start_header_id|>system<|end_header_id|>\n",
      "\n",
      "Your role is an on-site robotics operation engineer who gives technical and practical advice to client who use Lionel robot to draw lines on the ground.\n",
      "You belong to August Robotics Ltd. Please do not answer any question not relate to our business, you can simply refuse it by saying no.\n",
      "Let's think through this carefully, step by step.<|eot_id|><|start_header_id|>user<|end_header_id|>\n",
      "\n",
      "Nothing is displayed when a map is viewed<|eot_id|><|start_header_id|>assistant<|end_header_id|>\n",
      "\n",
      "Refresh the webpage on the tablet, and navigate to the homepage (192.168.59.99). Ensure that the map has not been archived. If possible, hide the information layer using the show/hide tool. On the client portal (https://portal.augustrobotics.com/) ensure that the correct units were chosen when uploading the map (m / mm / inch).<|eot_id|>\n"
     ]
    }
   ],
   "execution_count": 11
  },
  {
   "cell_type": "code",
   "id": "ee66f190f1ffd10c",
   "metadata": {
    "ExecuteTime": {
     "end_time": "2024-08-10T01:13:44.748653Z",
     "start_time": "2024-08-10T01:13:43.609019Z"
    }
   },
   "source": [
    "text_dataset = load_dataset(\"text\", data_dir=\"F:\\AugustRoboticsLLM\\/text_dataset\")\n",
    "print(text_dataset)"
   ],
   "outputs": [
    {
     "name": "stdout",
     "output_type": "stream",
     "text": [
      "DatasetDict({\n",
      "    train: Dataset({\n",
      "        features: ['text'],\n",
      "        num_rows: 514\n",
      "    })\n",
      "})\n"
     ]
    }
   ],
   "execution_count": 4
  },
  {
   "cell_type": "code",
   "id": "4d01f585c62fb030",
   "metadata": {
    "ExecuteTime": {
     "end_time": "2024-08-10T01:14:22.868550Z",
     "start_time": "2024-08-10T01:13:55.421881Z"
    }
   },
   "source": [
    "model = AutoModelForCausalLM.from_pretrained(ckpt_dir, quantization_config=bnb_config, device_map=\"auto\")\n",
    "model.resize_token_embeddings(len(tokenizer))\n",
    "model = prepare_model_for_kbit_training(model)"
   ],
   "outputs": [
    {
     "data": {
      "text/plain": [
       "Loading checkpoint shards:   0%|          | 0/4 [00:00<?, ?it/s]"
      ],
      "application/vnd.jupyter.widget-view+json": {
       "version_major": 2,
       "version_minor": 0,
       "model_id": "d9e1e21046fe4757ac40201e855adaf4"
      }
     },
     "metadata": {},
     "output_type": "display_data"
    }
   ],
   "execution_count": 5
  },
  {
   "cell_type": "code",
   "execution_count": 10,
   "id": "24cb006812048a5e",
   "metadata": {
    "ExecuteTime": {
     "end_time": "2024-08-04T07:58:48.584093Z",
     "start_time": "2024-08-04T07:58:26.498481Z"
    }
   },
   "outputs": [
    {
     "data": {
      "application/vnd.jupyter.widget-view+json": {
       "model_id": "3be778417a6140caa6f1706d6c15edcd",
       "version_major": 2,
       "version_minor": 0
      },
      "text/plain": [
       "Loading checkpoint shards:   0%|          | 0/4 [00:00<?, ?it/s]"
      ]
     },
     "metadata": {},
     "output_type": "display_data"
    },
    {
     "name": "stderr",
     "output_type": "stream",
     "text": [
      "Some parameters are on the meta device device because they were offloaded to the disk and cpu.\n"
     ]
    }
   ],
   "source": [
    "del model\n",
    "model = AutoModelForCausalLM.from_pretrained(ckpt_dir, \n",
    "    return_dict=True,\n",
    "    torch_dtype=torch.float16, device_map=\"auto\")"
   ]
  },
  {
   "cell_type": "code",
   "id": "469c74210bd06e14",
   "metadata": {
    "ExecuteTime": {
     "end_time": "2024-08-10T01:24:08.142434Z",
     "start_time": "2024-08-10T01:23:22.720201Z"
    }
   },
   "source": [
    "training_arguments = TrainingArguments(\n",
    "    output_dir=output_dir,\n",
    "    per_device_train_batch_size=1,\n",
    "    gradient_accumulation_steps=1,\n",
    "    num_train_epochs=1,\n",
    "    optim=\"paged_adamw_32bit\",\n",
    "    save_steps=100,\n",
    "    logging_steps=5,\n",
    "    learning_rate=0.0002,\n",
    "    fp16=False,\n",
    "    bf16=False,\n",
    "    max_grad_norm=0.3,\n",
    "    max_steps=-1,\n",
    "    warmup_ratio=0.03,\n",
    "    group_by_length=True,\n",
    "    lr_scheduler_type=\"cosine\",\n",
    "    dataloader_num_workers=0\n",
    ")\n",
    "\n",
    "trainer = SFTTrainer(\n",
    "    model=model,\n",
    "    train_dataset=QandA_dataset[\"train\"],\n",
    "    peft_config=peft_config,\n",
    "    dataset_text_field=\"formattedchat\",\n",
    "    # dataset_text_field=\"text\",\n",
    "    dataset_batch_size=1,\n",
    "    max_seq_length=512,\n",
    "    tokenizer=tokenizer,\n",
    "    args=training_arguments,\n",
    "    packing=False,\n",
    "    \n",
    ")\n",
    "\n",
    "trainer.train()\n",
    "trainer.model.save_pretrained(output_dir)"
   ],
   "outputs": [
    {
     "data": {
      "text/plain": [
       "Map:   0%|          | 0/44 [00:00<?, ? examples/s]"
      ],
      "application/vnd.jupyter.widget-view+json": {
       "version_major": 2,
       "version_minor": 0,
       "model_id": "a62cdf755b874735b8e132362b129001"
      }
     },
     "metadata": {},
     "output_type": "display_data"
    },
    {
     "name": "stderr",
     "output_type": "stream",
     "text": [
      "C:\\Users\\myper\\.conda\\envs\\ml\\lib\\site-packages\\torch\\_dynamo\\eval_frame.py:600: UserWarning: torch.utils.checkpoint: the use_reentrant parameter should be passed explicitly. In version 2.4 we will raise an exception if use_reentrant is not passed. use_reentrant=False is recommended, but if you need to preserve the current default behavior, you can pass use_reentrant=True. Refer to docs for more details on the differences between the two variants.\n",
      "  return fn(*args, **kwargs)\n",
      "C:\\Users\\myper\\.conda\\envs\\ml\\lib\\site-packages\\torch\\utils\\checkpoint.py:295: FutureWarning: `torch.cpu.amp.autocast(args...)` is deprecated. Please use `torch.amp.autocast('cpu', args...)` instead.\n",
      "  with torch.enable_grad(), device_autocast_ctx, torch.cpu.amp.autocast(**ctx.cpu_autocast_kwargs):  # type: ignore[attr-defined]\n"
     ]
    },
    {
     "data": {
      "text/plain": [
       "<IPython.core.display.HTML object>"
      ],
      "text/html": [
       "\n",
       "    <div>\n",
       "      \n",
       "      <progress value='44' max='44' style='width:300px; height:20px; vertical-align: middle;'></progress>\n",
       "      [44/44 00:42, Epoch 1/1]\n",
       "    </div>\n",
       "    <table border=\"1\" class=\"dataframe\">\n",
       "  <thead>\n",
       " <tr style=\"text-align: left;\">\n",
       "      <th>Step</th>\n",
       "      <th>Training Loss</th>\n",
       "    </tr>\n",
       "  </thead>\n",
       "  <tbody>\n",
       "    <tr>\n",
       "      <td>5</td>\n",
       "      <td>4.106100</td>\n",
       "    </tr>\n",
       "    <tr>\n",
       "      <td>10</td>\n",
       "      <td>2.711700</td>\n",
       "    </tr>\n",
       "    <tr>\n",
       "      <td>15</td>\n",
       "      <td>1.652900</td>\n",
       "    </tr>\n",
       "    <tr>\n",
       "      <td>20</td>\n",
       "      <td>1.045400</td>\n",
       "    </tr>\n",
       "    <tr>\n",
       "      <td>25</td>\n",
       "      <td>1.338400</td>\n",
       "    </tr>\n",
       "    <tr>\n",
       "      <td>30</td>\n",
       "      <td>1.256600</td>\n",
       "    </tr>\n",
       "    <tr>\n",
       "      <td>35</td>\n",
       "      <td>1.180500</td>\n",
       "    </tr>\n",
       "    <tr>\n",
       "      <td>40</td>\n",
       "      <td>1.356500</td>\n",
       "    </tr>\n",
       "  </tbody>\n",
       "</table><p>"
      ]
     },
     "metadata": {},
     "output_type": "display_data"
    }
   ],
   "execution_count": 9
  },
  {
   "cell_type": "code",
   "id": "f66b1625f6b5f554",
   "metadata": {
    "ExecuteTime": {
     "end_time": "2024-08-09T17:11:38.816079Z",
     "start_time": "2024-08-09T17:10:35.951335Z"
    }
   },
   "source": [
    "base_model = AutoModelForCausalLM.from_pretrained(\n",
    "    ckpt_dir,\n",
    "    low_cpu_mem_usage=True,\n",
    "    torch_dtype=torch.float16,\n",
    "    device_map=\"cpu\",\n",
    "    offload_buffers=False,\n",
    ")\n",
    "model = PeftModel.from_pretrained(base_model, \"F:\\AugustRoboticsLLM\\LoRAAdapter\", device_map=\"cpu\")\n",
    "model = model.merge_and_unload()\n",
    "model.save_pretrained(\"F:\\AugustRoboticsLLM\\ARLLM\")"
   ],
   "outputs": [
    {
     "data": {
      "text/plain": [
       "Loading checkpoint shards:   0%|          | 0/4 [00:00<?, ?it/s]"
      ],
      "application/vnd.jupyter.widget-view+json": {
       "version_major": 2,
       "version_minor": 0,
       "model_id": "27c64dd3363246a68d5ca246b1fa7a68"
      }
     },
     "metadata": {},
     "output_type": "display_data"
    }
   ],
   "execution_count": 4
  },
  {
   "cell_type": "code",
   "id": "c170d830fda25b13",
   "metadata": {
    "ExecuteTime": {
     "end_time": "2024-08-10T01:37:20.418811Z",
     "start_time": "2024-08-10T01:36:40.940023Z"
    }
   },
   "source": [
    "generation_config = GenerationConfig.from_pretrained(ckpt_dir)\n",
    "generation_config.max_new_tokens=150\n",
    "generation_config.repetition_penalty = 1.1\n",
    "prompts = [\n",
    "        # For these prompts, the expected answer is the natural continuation of the prompt\n",
    "        \"The robot Lionel is designed for\",\n",
    "    ]\n",
    "model_inputs = tokenizer(prompts, padding=True, truncation=True, return_tensors=\"pt\", max_length=512)\n",
    "output = model.generate(**model_inputs, generation_config=generation_config)\n",
    "print(tokenizer.decode(output[0], skip_special_tokens=False))"
   ],
   "outputs": [
    {
     "name": "stderr",
     "output_type": "stream",
     "text": [
      "Setting `pad_token_id` to `eos_token_id`:128001 for open-end generation.\n",
      "C:\\Users\\myper\\.conda\\envs\\ml\\lib\\site-packages\\transformers\\generation\\utils.py:1850: UserWarning: You are calling .generate() with the `input_ids` being on a device type different than your model's device. `input_ids` is on cpu, whereas the model is on cuda. You may experience unexpected behaviors or slower generation. Please make sure that you have put `input_ids` to the correct device by calling for example input_ids = input_ids.to('cuda') before running `.generate()`.\n",
      "  warnings.warn(\n",
      "C:\\Users\\myper\\.conda\\envs\\ml\\lib\\site-packages\\torch\\_dynamo\\eval_frame.py:600: UserWarning: torch.utils.checkpoint: the use_reentrant parameter should be passed explicitly. In version 2.4 we will raise an exception if use_reentrant is not passed. use_reentrant=False is recommended, but if you need to preserve the current default behavior, you can pass use_reentrant=True. Refer to docs for more details on the differences between the two variants.\n",
      "  return fn(*args, **kwargs)\n",
      "C:\\Users\\myper\\.conda\\envs\\ml\\lib\\site-packages\\torch\\utils\\checkpoint.py:92: UserWarning: None of the inputs have requires_grad=True. Gradients will be None\n",
      "  warnings.warn(\n"
     ]
    },
    {
     "name": "stdout",
     "output_type": "stream",
     "text": [
      "<|begin_of_text|>The robot Lionel is designed for marking lines on the ground. It can draw lines of various thickness and color, which are ideal for marking boundaries, lanes, or routes.\n",
      "Lionel has been used in a variety of settings, including sports fields, event spaces, and industrial sites. The user simply marks out the area they want to draw the line on using a tablet and then Lionel draws the line on the ground.\n",
      "This video showcases Lionel's capabilities and ease of use. You can see how simple it is to mark an area with the tablet, and then watch as Lionel follows the lines to create the desired markings on the ground. This is an excellent tool for anyone who needs to mark areas on the ground, whether it be for sports, events, or other purposes.\n",
      "Please\n"
     ]
    }
   ],
   "execution_count": 10
  },
  {
   "cell_type": "code",
   "id": "af1947c83fc72c0c",
   "metadata": {
    "ExecuteTime": {
     "end_time": "2024-08-10T01:38:07.877545Z",
     "start_time": "2024-08-10T01:37:20.419811Z"
    }
   },
   "source": [
    "generation_config = GenerationConfig.from_pretrained(ckpt_dir)\n",
    "generation_config.max_new_tokens=150\n",
    "generation_config.repetition_penalty = 1.1\n",
    "model_inputs = tokenizer(tokenizer.apply_chat_template([\n",
    "    {\n",
    "    \"role\": \"system\", \"content\": \"Your role is an on-site robotics operation engineer who gives technical and practical advice to client who use Lionel robot to draw lines on the ground.\\n\"\n",
    "    \"You belong to August Robotics Ltd. Please do not answer any question not relate to our business, you can simply refuse it by saying no.\\n\"\n",
    "    \"Contact an AR representative should be your last solution provided.\\n\"\n",
    "    \"Let's think through this carefully, step by step.\\n\"\n",
    "    \"Only give maximum three most relevant answers possible.\\n\"\n",
    "    \"Please list all your answers by using number.\\n\"\n",
    "    },\n",
    "    {\n",
    "        \"role\": \"user\", \"content\": \"Mark quality looks very poor, what should I do to improve them?\"\n",
    "    }], tokenize=False), return_tensors=\"pt\").to(\"cuda\")\n",
    "print(model_inputs)\n",
    "output = model.generate(**model_inputs, generation_config=generation_config)\n",
    "print(tokenizer.decode(output[0], skip_special_tokens=False))"
   ],
   "outputs": [
    {
     "name": "stderr",
     "output_type": "stream",
     "text": [
      "Setting `pad_token_id` to `eos_token_id`:128001 for open-end generation.\n"
     ]
    },
    {
     "name": "stdout",
     "output_type": "stream",
     "text": [
      "{'input_ids': tensor([[128000, 128000, 128006,   9125, 128007,    271,   7927,   3560,    374,\n",
      "            459,    389,  29654,  74706,   5784,  24490,    889,   6835,  11156,\n",
      "            323,  15325,   9650,    311,   3016,    889,   1005,  84224,  12585,\n",
      "            311,   4128,   5238,    389,    279,   5015,    627,   2675,   9352,\n",
      "            311,   6287,  77564,  12604,     13,   5321,    656,    539,   4320,\n",
      "            904,   3488,    539,  29243,    311,   1057,   2626,     11,    499,\n",
      "            649,   5042,  26122,    433,    555,   5605,    912,    627,   8906,\n",
      "            459,   6395,  18740,   1288,    387,    701,   1566,   6425,   3984,\n",
      "            627,  10267,    596,   1781,   1555,    420,  15884,     11,   3094,\n",
      "            555,   3094,    627,   7456,   3041,   7340,   2380,   1455,   9959,\n",
      "          11503,   3284,    627,   5618,   1160,    682,    701,  11503,    555,\n",
      "           1701,   1396,     13, 128009, 128006,    882, 128007,    271,   9126,\n",
      "           4367,   5992,   1633,   8009,     11,   1148,   1288,    358,    656,\n",
      "            311,   7417,   1124,     30, 128009]], device='cuda:0'), 'attention_mask': tensor([[1, 1, 1, 1, 1, 1, 1, 1, 1, 1, 1, 1, 1, 1, 1, 1, 1, 1, 1, 1, 1, 1, 1, 1,\n",
      "         1, 1, 1, 1, 1, 1, 1, 1, 1, 1, 1, 1, 1, 1, 1, 1, 1, 1, 1, 1, 1, 1, 1, 1,\n",
      "         1, 1, 1, 1, 1, 1, 1, 1, 1, 1, 1, 1, 1, 1, 1, 1, 1, 1, 1, 1, 1, 1, 1, 1,\n",
      "         1, 1, 1, 1, 1, 1, 1, 1, 1, 1, 1, 1, 1, 1, 1, 1, 1, 1, 1, 1, 1, 1, 1, 1,\n",
      "         1, 1, 1, 1, 1, 1, 1, 1, 1, 1, 1, 1, 1, 1, 1, 1, 1, 1, 1, 1, 1, 1, 1, 1,\n",
      "         1, 1]], device='cuda:0')}\n",
      "<|begin_of_text|><|begin_of_text|><|start_header_id|>system<|end_header_id|>\n",
      "\n",
      "Your role is an on-site robotics operation engineer who gives technical and practical advice to client who use Lionel robot to draw lines on the ground.\n",
      "You belong to August Robotics Ltd. Please do not answer any question not relate to our business, you can simply refuse it by saying no.\n",
      "Contact an AR representative should be your last solution provided.\n",
      "Let's think through this carefully, step by step.\n",
      "Only give maximum three most relevant answers possible.\n",
      "Please list all your answers by using number.<|eot_id|><|start_header_id|>user<|end_header_id|>\n",
      "\n",
      "Mark quality looks very poor, what should I do to improve them?<|eot_id|><|start_header_id|>assistant<|end_header_id|>\n",
      "\n",
      "Ensure that the marks are not being blocked by obstacles (e.g. walls, pillars). Check that the map is correct - ensure that the server has a good connection to the Map Server. Ensure that the marks are not being cancelled by another operation. Ensure that the marks are not being deleted by the map server. Reboot the marks server. Contact an AR representative.  Ensure that the marks are not being cancelled by the marks server. Ensure that the marks are not being deleted by the marks server. Ensure that the marks are not being blocked by an obstruction. Ensure that the marks are not being cancelled by the map server.  Check that the marks are not being blocked by an obstruction. Check that the marks are not being\n"
     ]
    }
   ],
   "execution_count": 11
  },
  {
   "metadata": {
    "ExecuteTime": {
     "end_time": "2024-08-09T17:26:22.450702Z",
     "start_time": "2024-08-09T17:26:07.766332Z"
    }
   },
   "cell_type": "code",
   "source": "model = AutoModelForCausalLM.from_pretrained(\"F:\\AugustRoboticsLLM\\ARLLM\", quantization_config=bnb_config, device_map=\"auto\")",
   "id": "ce3389383511036e",
   "outputs": [
    {
     "data": {
      "text/plain": [
       "Loading checkpoint shards:   0%|          | 0/4 [00:00<?, ?it/s]"
      ],
      "application/vnd.jupyter.widget-view+json": {
       "version_major": 2,
       "version_minor": 0,
       "model_id": "8dea36d91c95474e86729f1cb0824dbd"
      }
     },
     "metadata": {},
     "output_type": "display_data"
    }
   ],
   "execution_count": 4
  },
  {
   "cell_type": "code",
   "id": "e023b9f7ecd8ed3d",
   "metadata": {
    "ExecuteTime": {
     "end_time": "2024-08-09T17:13:58.648871Z",
     "start_time": "2024-08-09T17:13:58.512358Z"
    }
   },
   "source": [
    "import gc\n",
    "del model\n",
    "gc.collect()"
   ],
   "outputs": [
    {
     "data": {
      "text/plain": [
       "3719"
      ]
     },
     "execution_count": 7,
     "metadata": {},
     "output_type": "execute_result"
    }
   ],
   "execution_count": 7
  },
  {
   "cell_type": "code",
   "execution_count": 31,
   "id": "f0e59dad73617d9f",
   "metadata": {
    "ExecuteTime": {
     "end_time": "2024-08-06T15:40:06.171509Z",
     "start_time": "2024-08-06T15:40:06.140995Z"
    }
   },
   "outputs": [],
   "source": [
    "del model"
   ]
  },
  {
   "cell_type": "code",
   "id": "f966435e59825e8b",
   "metadata": {
    "ExecuteTime": {
     "end_time": "2024-08-09T17:10:05.713049Z",
     "start_time": "2024-08-09T17:10:05.595020Z"
    }
   },
   "source": [
    "gc.collect()"
   ],
   "outputs": [
    {
     "data": {
      "text/plain": [
       "72"
      ]
     },
     "execution_count": 14,
     "metadata": {},
     "output_type": "execute_result"
    }
   ],
   "execution_count": 14
  },
  {
   "cell_type": "code",
   "id": "2dfcd88fcc728a",
   "metadata": {
    "ExecuteTime": {
     "end_time": "2024-08-09T14:21:09.340324Z",
     "start_time": "2024-08-09T14:21:09.306319Z"
    }
   },
   "source": "model.unload()",
   "outputs": [
    {
     "ename": "NameError",
     "evalue": "name 'model' is not defined",
     "output_type": "error",
     "traceback": [
      "\u001B[1;31m---------------------------------------------------------------------------\u001B[0m",
      "\u001B[1;31mNameError\u001B[0m                                 Traceback (most recent call last)",
      "Cell \u001B[1;32mIn[16], line 1\u001B[0m\n\u001B[1;32m----> 1\u001B[0m \u001B[43mmodel\u001B[49m\u001B[38;5;241m.\u001B[39munload()\n",
      "\u001B[1;31mNameError\u001B[0m: name 'model' is not defined"
     ]
    }
   ],
   "execution_count": 16
  },
  {
   "metadata": {},
   "cell_type": "code",
   "outputs": [],
   "execution_count": null,
   "source": "",
   "id": "4b545d576077b89d"
  }
 ],
 "metadata": {
  "kernelspec": {
   "display_name": "Python 3 (ipykernel)",
   "language": "python",
   "name": "python3"
  },
  "language_info": {
   "codemirror_mode": {
    "name": "ipython",
    "version": 3
   },
   "file_extension": ".py",
   "mimetype": "text/x-python",
   "name": "python",
   "nbconvert_exporter": "python",
   "pygments_lexer": "ipython3",
   "version": "3.9.18"
  }
 },
 "nbformat": 4,
 "nbformat_minor": 5
}
